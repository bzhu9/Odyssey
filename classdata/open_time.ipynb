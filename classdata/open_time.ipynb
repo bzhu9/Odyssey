{
 "cells": [
  {
   "cell_type": "code",
   "execution_count": 411,
   "metadata": {},
   "outputs": [],
   "source": [
    "import pandas as pd"
   ]
  },
  {
   "cell_type": "code",
   "execution_count": 412,
   "metadata": {},
   "outputs": [
    {
     "data": {
      "text/plain": [
       "2"
      ]
     },
     "execution_count": 412,
     "metadata": {},
     "output_type": "execute_result"
    }
   ],
   "source": [
    "len(\"10:30a\".split(':')[0])"
   ]
  },
  {
   "cell_type": "code",
   "execution_count": 413,
   "metadata": {},
   "outputs": [],
   "source": [
    "import pandas as pd\n",
    "import urllib.request\n",
    "import datetime as dt\n",
    "\n",
    "def fetch_from_unitime(day_diff, filename=\"data.csv\", start_hour=8, end_hour=20, min_size=0, max_size=500):\n",
    "    if filename[-4:] != \".csv\":\n",
    "        raise Exception(\"file must be a csv file\")\n",
    "    if day_diff < 0:\n",
    "        raise Exception(\"Day difference must be non-negative\")\n",
    "    if day_diff == 0:\n",
    "        if start_hour > end_hour:\n",
    "            raise Exception(\"Start time must be before end time\")\n",
    "    if start_hour > 23 or end_hour > 23:\n",
    "        raise Exception(\"hour must be less than 24\")\n",
    "    if min_size > max_size:\n",
    "        raise Exception(\"max_size must be greater than min_size\")\n",
    "    if min_size < 0 or max_size < 0:\n",
    "        raise Exception(\"Class size must be non-negative\")\n",
    "    current_time = dt.datetime.today()\n",
    "    time_delta = dt.datetime.today() + dt.timedelta(days=day_diff)\n",
    "\n",
    "\n",
    "    link = \"https://timetable.mypurdue.purdue.edu/Timetabling/export?output=events.csv&type=room&term=Spring2023PWL&e:from={0:02d}/{1:02d}/{2}&e:to={3:02d}/{4:02d}/{5}&e:after={6}00&e:before={7}00&r:type=genClassroom&r:size={8}..{9}\".format(current_time.month, current_time.day, current_time.year, time_delta.month, time_delta.day, time_delta.year, start_hour, end_hour, min_size, max_size)\n",
    "    urllib.request.urlretrieve(link, '/Users/seanlee/Library/CloudStorage/OneDrive-purdue.edu/2/307/Odyssey/classdata/%s'%filename)\n",
    "\n",
    "def clean_file(df):\n",
    "    df.drop(df.columns[len(df.columns)-1], axis=1, inplace=True)\n",
    "    for i in range(len(df)):\n",
    "        start = df.at[i, 'Published Start']\n",
    "        if start[-1] == 'a' or start[0:2] == '12':\n",
    "            if len(start.split(':')[0]) == 1:\n",
    "                df.at[i, 'Published Start'] = '0%s' %(start[:-1])\n",
    "            else:\n",
    "                df.at[i, 'Published Start'] = start[:-1]\n",
    "        elif start == 'noon':\n",
    "            df.at[i, 'Published Start'] = '12:00'\n",
    "        else:\n",
    "            hour = int(start.split(':')[0])\n",
    "            hour += 12\n",
    "            rest = start.split(':')[1]\n",
    "            df.at[i, 'Published Start'] = '%d:%s' %(hour,rest[0:2])\n",
    "\n",
    "\n",
    "        end = df.at[i, 'Published End']\n",
    "        if end[-1] == 'a' or end[0:2] == '12':\n",
    "            if len(end.split(':')[0]) == 1:\n",
    "                df.at[i, 'Published End'] = '0%s' %(end[:-1])\n",
    "            else:\n",
    "                df.at[i, 'Published End'] = end[:-1]\n",
    "        elif end == 'noon':\n",
    "            df.at[i, 'Published End'] = '12:00'\n",
    "        else:\n",
    "            hour = int(end.split(':')[0])\n",
    "            hour += 12\n",
    "            rest = end.split(':')[1]\n",
    "            df.at[i, 'Published End'] = '%d:%s' %(hour,rest[0:2])\n",
    "\n",
    "def find_rooms(df):\n",
    "    building = dict()\n",
    "    for room in df[\"Location\"].unique():\n",
    "        if building.get(room.split()[0], 0) == 0:\n",
    "            building[room.split()[0]] = [room.split()[1]]\n",
    "        else:\n",
    "            building[room.split()[0]].append(room.split()[1])\n",
    "    return building"
   ]
  },
  {
   "cell_type": "code",
   "execution_count": 414,
   "metadata": {},
   "outputs": [],
   "source": [
    "df = pd.read_csv(\"week.csv\")"
   ]
  },
  {
   "cell_type": "code",
   "execution_count": 415,
   "metadata": {},
   "outputs": [],
   "source": [
    "clean_file(df)"
   ]
  },
  {
   "cell_type": "code",
   "execution_count": 416,
   "metadata": {},
   "outputs": [
    {
     "data": {
      "text/plain": [
       "8768"
      ]
     },
     "execution_count": 416,
     "metadata": {},
     "output_type": "execute_result"
    }
   ],
   "source": [
    "len(df)"
   ]
  },
  {
   "cell_type": "code",
   "execution_count": 417,
   "metadata": {},
   "outputs": [],
   "source": [
    "for date in set(df[\"Date\"]):\n",
    "    for classroom in set(df[\"Location\"]):\n",
    "        df.loc[len(df)] = [pd.NA, pd.NA, pd.NA, pd.NA, pd.NA, date, '06:00', '6:00', classroom, pd.NA, pd.NA, pd.NA, pd.NA, pd.NA]\n",
    "        df.loc[len(df)] = [pd.NA, pd.NA, pd.NA, pd.NA, pd.NA, date, '22:00', '22:00', classroom, pd.NA, pd.NA, pd.NA, pd.NA, pd.NA]"
   ]
  },
  {
   "cell_type": "code",
   "execution_count": 418,
   "metadata": {},
   "outputs": [
    {
     "data": {
      "text/plain": [
       "11648"
      ]
     },
     "execution_count": 418,
     "metadata": {},
     "output_type": "execute_result"
    }
   ],
   "source": [
    "len(df)"
   ]
  },
  {
   "cell_type": "code",
   "execution_count": 419,
   "metadata": {},
   "outputs": [
    {
     "data": {
      "text/plain": [
       "5"
      ]
     },
     "execution_count": 419,
     "metadata": {},
     "output_type": "execute_result"
    }
   ],
   "source": [
    "len(set(df[\"Date\"]))"
   ]
  },
  {
   "cell_type": "code",
   "execution_count": 420,
   "metadata": {},
   "outputs": [
    {
     "data": {
      "text/plain": [
       "288"
      ]
     },
     "execution_count": 420,
     "metadata": {},
     "output_type": "execute_result"
    }
   ],
   "source": [
    "len(set(df[\"Location\"]))"
   ]
  },
  {
   "cell_type": "code",
   "execution_count": 421,
   "metadata": {},
   "outputs": [],
   "source": [
    "sorted_df = df.sort_values(\"Published Start\")"
   ]
  },
  {
   "cell_type": "code",
   "execution_count": 422,
   "metadata": {},
   "outputs": [],
   "source": [
    "date_list = []\n",
    "for d_index, date in enumerate(sorted(list(set(df[\"Date\"])))):\n",
    "    class_list = [[] for i in range(len(sorted_df))]\n",
    "    for c_index, classroom in enumerate(sorted(list(set(sorted_df[\"Location\"])))):\n",
    "        class_list[c_index] = (sorted_df[(sorted_df[\"Location\"] == classroom) & (sorted_df[\"Date\"] == date)])\n",
    "    date_list.append(class_list)"
   ]
  },
  {
   "cell_type": "code",
   "execution_count": 423,
   "metadata": {},
   "outputs": [
    {
     "data": {
      "text/html": [
       "<div>\n",
       "<style scoped>\n",
       "    .dataframe tbody tr th:only-of-type {\n",
       "        vertical-align: middle;\n",
       "    }\n",
       "\n",
       "    .dataframe tbody tr th {\n",
       "        vertical-align: top;\n",
       "    }\n",
       "\n",
       "    .dataframe thead th {\n",
       "        text-align: right;\n",
       "    }\n",
       "</style>\n",
       "<table border=\"1\" class=\"dataframe\">\n",
       "  <thead>\n",
       "    <tr style=\"text-align: right;\">\n",
       "      <th></th>\n",
       "      <th>Name</th>\n",
       "      <th>Section</th>\n",
       "      <th>Type</th>\n",
       "      <th>Title</th>\n",
       "      <th>Note</th>\n",
       "      <th>Date</th>\n",
       "      <th>Published Start</th>\n",
       "      <th>Published End</th>\n",
       "      <th>Location</th>\n",
       "      <th>Capacity</th>\n",
       "      <th>Instructor / Organization</th>\n",
       "      <th>Email</th>\n",
       "      <th>Requested Services</th>\n",
       "      <th>Approved</th>\n",
       "    </tr>\n",
       "  </thead>\n",
       "  <tbody>\n",
       "    <tr>\n",
       "      <th>11344</th>\n",
       "      <td>&lt;NA&gt;</td>\n",
       "      <td>&lt;NA&gt;</td>\n",
       "      <td>&lt;NA&gt;</td>\n",
       "      <td>&lt;NA&gt;</td>\n",
       "      <td>&lt;NA&gt;</td>\n",
       "      <td>03/06/2023</td>\n",
       "      <td>06:00</td>\n",
       "      <td>6:00</td>\n",
       "      <td>ABE B053</td>\n",
       "      <td>NaN</td>\n",
       "      <td>NaN</td>\n",
       "      <td>NaN</td>\n",
       "      <td>NaN</td>\n",
       "      <td>NaN</td>\n",
       "    </tr>\n",
       "    <tr>\n",
       "      <th>445</th>\n",
       "      <td>ASM 21600</td>\n",
       "      <td>19583-002</td>\n",
       "      <td>Lecture</td>\n",
       "      <td>Introduction To Surveying</td>\n",
       "      <td>NaN</td>\n",
       "      <td>03/06/2023</td>\n",
       "      <td>09:30</td>\n",
       "      <td>10:20</td>\n",
       "      <td>ABE B053</td>\n",
       "      <td>32</td>\n",
       "      <td>Mosier, Nathan Scott (Instr)\\nZhang, Wanting (...</td>\n",
       "      <td>mosiern@purdue.edu\\nzhan2912@purdue.edu</td>\n",
       "      <td>NaN</td>\n",
       "      <td>09/22/2022</td>\n",
       "    </tr>\n",
       "    <tr>\n",
       "      <th>153</th>\n",
       "      <td>ABE 65100N</td>\n",
       "      <td>15495-001</td>\n",
       "      <td>Lecture</td>\n",
       "      <td>Environmental Informatics</td>\n",
       "      <td>NaN</td>\n",
       "      <td>03/06/2023</td>\n",
       "      <td>10:30</td>\n",
       "      <td>11:20</td>\n",
       "      <td>ABE B053</td>\n",
       "      <td>32</td>\n",
       "      <td>Cherkauer, Keith A (Instr)</td>\n",
       "      <td>cherkaue@purdue.edu</td>\n",
       "      <td>NaN</td>\n",
       "      <td>09/22/2022</td>\n",
       "    </tr>\n",
       "    <tr>\n",
       "      <th>128</th>\n",
       "      <td>ABE 32000</td>\n",
       "      <td>65886-001</td>\n",
       "      <td>Lecture</td>\n",
       "      <td>Sld Mod Dyn Sim Anly</td>\n",
       "      <td>NaN</td>\n",
       "      <td>03/06/2023</td>\n",
       "      <td>11:30</td>\n",
       "      <td>12:20</td>\n",
       "      <td>ABE B053</td>\n",
       "      <td>32</td>\n",
       "      <td>Harlow, Stanley Dean (Instr)</td>\n",
       "      <td>stanley.d.harlow.1@purdue.edu</td>\n",
       "      <td>NaN</td>\n",
       "      <td>09/22/2022</td>\n",
       "    </tr>\n",
       "    <tr>\n",
       "      <th>5750</th>\n",
       "      <td>SCLA 10200</td>\n",
       "      <td>25006-249</td>\n",
       "      <td>Lecture</td>\n",
       "      <td>Crit Think &amp; Com II</td>\n",
       "      <td>NaN</td>\n",
       "      <td>03/06/2023</td>\n",
       "      <td>12:30</td>\n",
       "      <td>13:20</td>\n",
       "      <td>ABE B053</td>\n",
       "      <td>32</td>\n",
       "      <td>Western, David Stanley (Instr)</td>\n",
       "      <td>dswester@purdue.edu</td>\n",
       "      <td>NaN</td>\n",
       "      <td>09/21/2022</td>\n",
       "    </tr>\n",
       "    <tr>\n",
       "      <th>5753</th>\n",
       "      <td>SCLA 10200</td>\n",
       "      <td>25007-250</td>\n",
       "      <td>Lecture</td>\n",
       "      <td>Crit Think &amp; Com II</td>\n",
       "      <td>NaN</td>\n",
       "      <td>03/06/2023</td>\n",
       "      <td>13:30</td>\n",
       "      <td>14:20</td>\n",
       "      <td>ABE B053</td>\n",
       "      <td>32</td>\n",
       "      <td>Western, David Stanley (Instr)</td>\n",
       "      <td>dswester@purdue.edu</td>\n",
       "      <td>NaN</td>\n",
       "      <td>09/21/2022</td>\n",
       "    </tr>\n",
       "    <tr>\n",
       "      <th>447</th>\n",
       "      <td>ASM 24500</td>\n",
       "      <td>11119-001</td>\n",
       "      <td>Lecture</td>\n",
       "      <td>Materials Hand &amp; Proc</td>\n",
       "      <td>NaN</td>\n",
       "      <td>03/06/2023</td>\n",
       "      <td>14:30</td>\n",
       "      <td>15:20</td>\n",
       "      <td>ABE B053</td>\n",
       "      <td>32</td>\n",
       "      <td>Ehlers, Shawn G (Instr)</td>\n",
       "      <td>sehlers@purdue.edu</td>\n",
       "      <td>NaN</td>\n",
       "      <td>09/22/2022</td>\n",
       "    </tr>\n",
       "    <tr>\n",
       "      <th>7841</th>\n",
       "      <td>Costa Rica Study Abroad Pre-Trip Meetings</td>\n",
       "      <td>NaN</td>\n",
       "      <td>Special</td>\n",
       "      <td>NaN</td>\n",
       "      <td>NaN</td>\n",
       "      <td>03/06/2023</td>\n",
       "      <td>17:00</td>\n",
       "      <td>19:30</td>\n",
       "      <td>ABE B053</td>\n",
       "      <td>32</td>\n",
       "      <td>NaN</td>\n",
       "      <td>NaN</td>\n",
       "      <td>NaN</td>\n",
       "      <td>10/18/2022</td>\n",
       "    </tr>\n",
       "    <tr>\n",
       "      <th>11345</th>\n",
       "      <td>&lt;NA&gt;</td>\n",
       "      <td>&lt;NA&gt;</td>\n",
       "      <td>&lt;NA&gt;</td>\n",
       "      <td>&lt;NA&gt;</td>\n",
       "      <td>&lt;NA&gt;</td>\n",
       "      <td>03/06/2023</td>\n",
       "      <td>22:00</td>\n",
       "      <td>22:00</td>\n",
       "      <td>ABE B053</td>\n",
       "      <td>NaN</td>\n",
       "      <td>NaN</td>\n",
       "      <td>NaN</td>\n",
       "      <td>NaN</td>\n",
       "      <td>NaN</td>\n",
       "    </tr>\n",
       "  </tbody>\n",
       "</table>\n",
       "</div>"
      ],
      "text/plain": [
       "                                            Name    Section     Type  \\\n",
       "11344                                       <NA>       <NA>     <NA>   \n",
       "445                                    ASM 21600  19583-002  Lecture   \n",
       "153                                   ABE 65100N  15495-001  Lecture   \n",
       "128                                    ABE 32000  65886-001  Lecture   \n",
       "5750                                  SCLA 10200  25006-249  Lecture   \n",
       "5753                                  SCLA 10200  25007-250  Lecture   \n",
       "447                                    ASM 24500  11119-001  Lecture   \n",
       "7841   Costa Rica Study Abroad Pre-Trip Meetings        NaN  Special   \n",
       "11345                                       <NA>       <NA>     <NA>   \n",
       "\n",
       "                            Title  Note        Date Published Start  \\\n",
       "11344                        <NA>  <NA>  03/06/2023           06:00   \n",
       "445    Introduction To Surveying    NaN  03/06/2023           09:30   \n",
       "153     Environmental Informatics   NaN  03/06/2023           10:30   \n",
       "128          Sld Mod Dyn Sim Anly   NaN  03/06/2023           11:30   \n",
       "5750          Crit Think & Com II   NaN  03/06/2023           12:30   \n",
       "5753          Crit Think & Com II   NaN  03/06/2023           13:30   \n",
       "447         Materials Hand & Proc   NaN  03/06/2023           14:30   \n",
       "7841                          NaN   NaN  03/06/2023           17:00   \n",
       "11345                        <NA>  <NA>  03/06/2023           22:00   \n",
       "\n",
       "      Published End  Location Capacity  \\\n",
       "11344          6:00  ABE B053      NaN   \n",
       "445           10:20  ABE B053       32   \n",
       "153           11:20  ABE B053       32   \n",
       "128           12:20  ABE B053       32   \n",
       "5750          13:20  ABE B053       32   \n",
       "5753          14:20  ABE B053       32   \n",
       "447           15:20  ABE B053       32   \n",
       "7841          19:30  ABE B053       32   \n",
       "11345         22:00  ABE B053      NaN   \n",
       "\n",
       "                               Instructor / Organization  \\\n",
       "11344                                                NaN   \n",
       "445    Mosier, Nathan Scott (Instr)\\nZhang, Wanting (...   \n",
       "153                           Cherkauer, Keith A (Instr)   \n",
       "128                         Harlow, Stanley Dean (Instr)   \n",
       "5750                      Western, David Stanley (Instr)   \n",
       "5753                      Western, David Stanley (Instr)   \n",
       "447                              Ehlers, Shawn G (Instr)   \n",
       "7841                                                 NaN   \n",
       "11345                                                NaN   \n",
       "\n",
       "                                         Email Requested Services    Approved  \n",
       "11344                                      NaN                NaN         NaN  \n",
       "445    mosiern@purdue.edu\\nzhan2912@purdue.edu                NaN  09/22/2022  \n",
       "153                        cherkaue@purdue.edu                NaN  09/22/2022  \n",
       "128              stanley.d.harlow.1@purdue.edu                NaN  09/22/2022  \n",
       "5750                       dswester@purdue.edu                NaN  09/21/2022  \n",
       "5753                       dswester@purdue.edu                NaN  09/21/2022  \n",
       "447                         sehlers@purdue.edu                NaN  09/22/2022  \n",
       "7841                                       NaN                NaN  10/18/2022  \n",
       "11345                                      NaN                NaN         NaN  "
      ]
     },
     "execution_count": 423,
     "metadata": {},
     "output_type": "execute_result"
    }
   ],
   "source": [
    "date_list[0][0]"
   ]
  }
 ],
 "metadata": {
  "kernelspec": {
   "display_name": "base",
   "language": "python",
   "name": "python3"
  },
  "language_info": {
   "codemirror_mode": {
    "name": "ipython",
    "version": 3
   },
   "file_extension": ".py",
   "mimetype": "text/x-python",
   "name": "python",
   "nbconvert_exporter": "python",
   "pygments_lexer": "ipython3",
   "version": "3.9.13"
  },
  "orig_nbformat": 4,
  "vscode": {
   "interpreter": {
    "hash": "2aed2efa9f387e5d10f2fb316807f26de9fdfb5328ebcc8d2085e52d2acd3c89"
   }
  }
 },
 "nbformat": 4,
 "nbformat_minor": 2
}
