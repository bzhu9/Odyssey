{
 "cells": [
  {
   "cell_type": "code",
   "execution_count": null,
   "metadata": {},
   "outputs": [],
   "source": [
    "import pandas as pd"
   ]
  },
  {
   "cell_type": "code",
   "execution_count": null,
   "metadata": {},
   "outputs": [],
   "source": [
    "import pandas as pd\n",
    "import urllib.request\n",
    "import datetime as dt\n",
    "\n",
    "def fetch_from_unitime(day_diff, filename=\"data.csv\", start_hour=8, end_hour=22, min_size=0, max_size=500):\n",
    "    if filename[-4:] != \".csv\":\n",
    "        raise Exception(\"file must be a csv file\")\n",
    "    if day_diff < 0:\n",
    "        raise Exception(\"Day difference must be non-negative\")\n",
    "    if day_diff == 0:\n",
    "        if start_hour > end_hour:\n",
    "            raise Exception(\"Start time must be before end time\")\n",
    "    if start_hour > 23 or end_hour > 23:\n",
    "        raise Exception(\"hour must be less than 24\")\n",
    "    if min_size > max_size:\n",
    "        raise Exception(\"max_size must be greater than min_size\")\n",
    "    if min_size < 0 or max_size < 0:\n",
    "        raise Exception(\"Class size must be non-negative\")\n",
    "    current_time = dt.datetime.today()\n",
    "    time_delta = dt.datetime.today() + dt.timedelta(days=day_diff)\n",
    "\n",
    "\n",
    "    link = \"https://timetable.mypurdue.purdue.edu/Timetabling/export?output=events.csv&type=room&term=Spring2023PWL&e:from={0:02d}/{1:02d}/{2}&e:to={3:02d}/{4:02d}/{5}&e:after={6}00&e:before={7}00&r:type=genClassroom&r:size={8}..{9}\".format(current_time.month, current_time.day, current_time.year, time_delta.month, time_delta.day, time_delta.year, start_hour, end_hour, min_size, max_size)\n",
    "    urllib.request.urlretrieve(link, '/Users/seanlee/Library/CloudStorage/OneDrive-purdue.edu/2/307/Odyssey/classdata/%s'%filename)\n",
    "\n",
    "def clean_file(df):\n",
    "    df.drop(df.columns[len(df.columns)-1], axis=1, inplace=True)\n",
    "    for i in range(len(df)):\n",
    "        start = df.at[i, 'Published Start']\n",
    "        if start[-1] == 'a' or start[0:2] == '12':\n",
    "            if len(start.split(':')[0]) == 1:\n",
    "                df.at[i, 'Published Start'] = '0%s' %(start[:-1])\n",
    "            else:\n",
    "                df.at[i, 'Published Start'] = start[:-1]\n",
    "        elif start == 'noon':\n",
    "            df.at[i, 'Published Start'] = '12:00'\n",
    "        else:\n",
    "            hour = int(start.split(':')[0])\n",
    "            hour += 12\n",
    "            rest = start.split(':')[1]\n",
    "            df.at[i, 'Published Start'] = '%d:%s' %(hour,rest[0:2])\n",
    "\n",
    "\n",
    "        end = df.at[i, 'Published End']\n",
    "        if end[-1] == 'a' or end[0:2] == '12':\n",
    "            if len(end.split(':')[0]) == 1:\n",
    "                df.at[i, 'Published End'] = '0%s' %(end[:-1])\n",
    "            else:\n",
    "                df.at[i, 'Published End'] = end[:-1]\n",
    "        elif end == 'noon':\n",
    "            df.at[i, 'Published End'] = '12:00'\n",
    "        else:\n",
    "            hour = int(end.split(':')[0])\n",
    "            hour += 12\n",
    "            rest = end.split(':')[1]\n",
    "            df.at[i, 'Published End'] = '%d:%s' %(hour,rest[0:2])\n",
    "\n",
    "def find_rooms(df):\n",
    "    building = dict()\n",
    "    for room in df[\"Location\"].unique():\n",
    "        if building.get(room.split()[0], 0) == 0:\n",
    "            building[room.split()[0]] = [room.split()[1]]\n",
    "        else:\n",
    "            building[room.split()[0]].append(room.split()[1])\n",
    "    return building"
   ]
  },
  {
   "cell_type": "code",
   "execution_count": null,
   "metadata": {},
   "outputs": [],
   "source": [
    "df = pd.read_csv(\"friday.csv\")"
   ]
  },
  {
   "cell_type": "code",
   "execution_count": null,
   "metadata": {},
   "outputs": [],
   "source": [
    "clean_file(df)"
   ]
  },
  {
   "cell_type": "code",
   "execution_count": null,
   "metadata": {},
   "outputs": [],
   "source": [
    "len(df)"
   ]
  },
  {
   "cell_type": "code",
   "execution_count": null,
   "metadata": {},
   "outputs": [],
   "source": [
    "for date in set(df[\"Date\"]):\n",
    "    for classroom in set(df[\"Location\"]):\n",
    "        df.loc[len(df)] = [pd.NA, pd.NA, pd.NA, pd.NA, pd.NA, date, '06:00', '6:00', classroom, pd.NA, pd.NA, pd.NA, pd.NA, pd.NA]\n",
    "        df.loc[len(df)] = [pd.NA, pd.NA, pd.NA, pd.NA, pd.NA, date, '22:00', '22:00', classroom, pd.NA, pd.NA, pd.NA, pd.NA, pd.NA]"
   ]
  },
  {
   "cell_type": "code",
   "execution_count": null,
   "metadata": {},
   "outputs": [],
   "source": [
    "len(df)"
   ]
  },
  {
   "cell_type": "code",
   "execution_count": null,
   "metadata": {},
   "outputs": [],
   "source": [
    "len(set(df[\"Date\"]))"
   ]
  },
  {
   "cell_type": "code",
   "execution_count": null,
   "metadata": {},
   "outputs": [],
   "source": [
    "len(set(df[\"Location\"]))"
   ]
  },
  {
   "cell_type": "code",
   "execution_count": null,
   "metadata": {},
   "outputs": [],
   "source": [
    "sorted_df = df.sort_values(\"Published Start\")"
   ]
  },
  {
   "cell_type": "code",
   "execution_count": null,
   "metadata": {},
   "outputs": [],
   "source": [
    "time = dt.datetime.strptime('06:00' + \" \" + \"03/03/2023\", '%H:%S %d/%m/%Y')"
   ]
  },
  {
   "cell_type": "code",
   "execution_count": null,
   "metadata": {},
   "outputs": [],
   "source": [
    "thing = pd.DataFrame(columns=[\"one\", \"two\"])"
   ]
  },
  {
   "cell_type": "code",
   "execution_count": null,
   "metadata": {},
   "outputs": [],
   "source": [
    "thing.loc[len(thing)] = [\"hi\", \"bye\"]"
   ]
  },
  {
   "cell_type": "code",
   "execution_count": null,
   "metadata": {},
   "outputs": [],
   "source": [
    "date_list = []\n",
    "for d_index, date in enumerate(sorted(list(set(df[\"Date\"])))):\n",
    "    class_list = [[] for i in range(len(sorted_df))]\n",
    "    for c_index, classroom in enumerate(sorted(list(set(sorted_df[\"Location\"])))):\n",
    "        class_list[c_index] = sorted_df[(sorted_df[\"Location\"] == classroom) & (sorted_df[\"Date\"] == date)].reset_index()\n",
    "    date_list.append(class_list)"
   ]
  },
  {
   "cell_type": "code",
   "execution_count": null,
   "metadata": {},
   "outputs": [],
   "source": [
    "sorted_df.columns"
   ]
  },
  {
   "cell_type": "code",
   "execution_count": null,
   "metadata": {},
   "outputs": [],
   "source": [
    "import json\n",
    "with open('build_address.json') as json_file:\n",
    "    build_address = json.load(json_file)"
   ]
  },
  {
   "cell_type": "code",
   "execution_count": null,
   "metadata": {},
   "outputs": [],
   "source": [
    "len(build_address)"
   ]
  },
  {
   "cell_type": "code",
   "execution_count": null,
   "metadata": {},
   "outputs": [],
   "source": [
    "build_address"
   ]
  },
  {
   "cell_type": "code",
   "execution_count": null,
   "metadata": {},
   "outputs": [],
   "source": [
    "'HAMP' in build_address"
   ]
  },
  {
   "cell_type": "code",
   "execution_count": null,
   "metadata": {},
   "outputs": [],
   "source": [
    "temp = pd.DataFrame(columns=['Date','Start','End', 'Location', 'Capacity', 'Address'])\n",
    "for d_index, date in enumerate(sorted(list(set(df[\"Date\"])))):\n",
    "    for c_index, classroom in enumerate(sorted(list(set(sorted_df[\"Location\"])))):\n",
    "        for i in range(len(date_list[d_index][c_index])):\n",
    "            if i == 0:\n",
    "                continue\n",
    "            temp.loc[len(temp)] = [date, date_list[d_index][c_index].at[i - 1, \"Published End\"], date_list[d_index][c_index].at[i, \"Published Start\"], classroom, date_list[d_index][c_index].at[1, \"Capacity\"], build_address[classroom.split()[0]]]"
   ]
  },
  {
   "cell_type": "code",
   "execution_count": null,
   "metadata": {},
   "outputs": [],
   "source": [
    "temp.head(20)"
   ]
  },
  {
   "cell_type": "code",
   "execution_count": null,
   "metadata": {},
   "outputs": [],
   "source": [
    "temp.to_csv(\"friday_open.csv\", index=False)"
   ]
  },
  {
   "cell_type": "code",
   "execution_count": null,
   "metadata": {},
   "outputs": [],
   "source": [
    "date_dict = {}\n",
    "\n",
    "    class_dict = {}\n",
    "    \n",
    "        for i in range(len(date_list[d_index][c_index])):\n",
    "            if i == 0:\n",
    "                continue\n",
    "            temp.loc[len(temp)] = [date, date_list[d_index][c_index].at[i - 1, \"Published End\"], date_list[d_index][c_index].at[i, \"Published Start\"], classroom, date_list[d_index][c_index].at[1, \"Capacity\"]]\n",
    "        class_dict[classroom] = temp.to_json()\n",
    "    date_dict[date] = class_dict\n"
   ]
  },
  {
   "cell_type": "code",
   "execution_count": null,
   "metadata": {},
   "outputs": [],
   "source": [
    "date_dict[\"03/03/2023\"]['LWSN B151']"
   ]
  },
  {
   "cell_type": "code",
   "execution_count": null,
   "metadata": {},
   "outputs": [],
   "source": [
    "import json"
   ]
  },
  {
   "cell_type": "code",
   "execution_count": null,
   "metadata": {},
   "outputs": [],
   "source": [
    "with open(\"/Users/seanlee/Library/CloudStorage/OneDrive-purdue.edu/2/307/Odyssey/classdata/friday.json\", \"w\") as outfile:\n",
    "    json.dump(date_dict, outfile)"
   ]
  },
  {
   "cell_type": "code",
   "execution_count": null,
   "metadata": {},
   "outputs": [],
   "source": [
    "df2 = pd.read_json(\"/Users/seanlee/Library/CloudStorage/OneDrive-purdue.edu/2/307/Odyssey/classdata/open_time.ipynb\")"
   ]
  },
  {
   "cell_type": "code",
   "execution_count": null,
   "metadata": {},
   "outputs": [],
   "source": []
  },
  {
   "cell_type": "code",
   "execution_count": null,
   "metadata": {},
   "outputs": [],
   "source": []
  },
  {
   "cell_type": "code",
   "execution_count": null,
   "metadata": {},
   "outputs": [],
   "source": [
    "for date in date_dict:\n",
    "    "
   ]
  },
  {
   "cell_type": "code",
   "execution_count": null,
   "metadata": {},
   "outputs": [],
   "source": [
    "date_dict[\"03/03/2023\"]['ABE B053']"
   ]
  },
  {
   "cell_type": "code",
   "execution_count": null,
   "metadata": {},
   "outputs": [],
   "source": [
    "date_dict['03/03/2023']['ABE B053']"
   ]
  },
  {
   "cell_type": "code",
   "execution_count": null,
   "metadata": {},
   "outputs": [],
   "source": []
  },
  {
   "cell_type": "code",
   "execution_count": null,
   "metadata": {},
   "outputs": [],
   "source": [
    "import pandas as pd"
   ]
  },
  {
   "cell_type": "code",
   "execution_count": null,
   "metadata": {},
   "outputs": [],
   "source": [
    "df = pd.read_csv(\"/Users/seanlee/Library/CloudStorage/OneDrive-purdue.edu/2/307/Odyssey/backend/friday_open.csv\")"
   ]
  },
  {
   "cell_type": "code",
   "execution_count": null,
   "metadata": {},
   "outputs": [],
   "source": [
    "df.drop(['Date'], axis=1, inplace=True)"
   ]
  },
  {
   "cell_type": "code",
   "execution_count": null,
   "metadata": {},
   "outputs": [],
   "source": [
    "df.head()"
   ]
  },
  {
   "cell_type": "code",
   "execution_count": null,
   "metadata": {},
   "outputs": [],
   "source": [
    "for i in range(len(df)):\n",
    "    df.at[i, \"building\"] = df.at[i, \"Location\"].split()[0]"
   ]
  },
  {
   "cell_type": "code",
   "execution_count": null,
   "metadata": {},
   "outputs": [],
   "source": [
    "for i in range(len(df)):\n",
    "    df.at[i, \"room\"] = df.at[i, \"Location\"].split()[1]"
   ]
  },
  {
   "cell_type": "code",
   "execution_count": null,
   "metadata": {},
   "outputs": [],
   "source": [
    "for i in range(len(df)):\n",
    "    df.at[i, \"room\"] = df.at[i, \"Location\"].split()[1]"
   ]
  },
  {
   "cell_type": "code",
   "execution_count": null,
   "metadata": {},
   "outputs": [],
   "source": [
    "df.head()"
   ]
  },
  {
   "cell_type": "code",
   "execution_count": null,
   "metadata": {},
   "outputs": [],
   "source": [
    "df.head()"
   ]
  },
  {
   "cell_type": "code",
   "execution_count": null,
   "metadata": {},
   "outputs": [],
   "source": [
    "df.drop(\"Capacity\", axis=1, inplace=True)"
   ]
  },
  {
   "cell_type": "code",
   "execution_count": null,
   "metadata": {},
   "outputs": [],
   "source": [
    "df.head()"
   ]
  },
  {
   "cell_type": "code",
   "execution_count": null,
   "metadata": {},
   "outputs": [],
   "source": []
  },
  {
   "cell_type": "code",
   "execution_count": null,
   "metadata": {},
   "outputs": [],
   "source": [
    "arr = df.to_numpy()"
   ]
  },
  {
   "cell_type": "code",
   "execution_count": null,
   "metadata": {},
   "outputs": [],
   "source": [
    "arr[0][0]"
   ]
  },
  {
   "cell_type": "code",
   "execution_count": null,
   "metadata": {},
   "outputs": [],
   "source": [
    "arr[0][0].split(':')[0]"
   ]
  },
  {
   "cell_type": "code",
   "execution_count": null,
   "metadata": {},
   "outputs": [],
   "source": [
    "for i in range(len(df)):\n",
    "    end = int(arr[i, 1].split(':')[0]) * 60 + int(arr[i, 1].split(':')[1])\n",
    "    start = int(arr[i, 0].split(':')[0]) * 60 + int(arr[i, 0].split(':')[1])\n",
    "    if end < 990 or start > 930:\n",
    "        arr[i][0] = \"bye\""
   ]
  },
  {
   "cell_type": "code",
   "execution_count": null,
   "metadata": {},
   "outputs": [],
   "source": [
    "df2 = pd.DataFrame(arr, columns=[\"Start\", \"End\", \"building\", \"room\"])"
   ]
  },
  {
   "cell_type": "code",
   "execution_count": null,
   "metadata": {},
   "outputs": [],
   "source": [
    "df2.head()"
   ]
  },
  {
   "cell_type": "code",
   "execution_count": null,
   "metadata": {},
   "outputs": [],
   "source": [
    "df2.to_csv(\"open_friday5.csv\", index=False, header=None)"
   ]
  },
  {
   "cell_type": "code",
   "execution_count": null,
   "metadata": {},
   "outputs": [],
   "source": [
    "import json"
   ]
  },
  {
   "cell_type": "code",
   "execution_count": null,
   "metadata": {},
   "outputs": [],
   "source": [
    "with open(\"build_address.json\") as f_in:\n",
    "    my_dict = json.load(f_in)"
   ]
  },
  {
   "cell_type": "code",
   "execution_count": null,
   "metadata": {},
   "outputs": [],
   "source": [
    "my_dict.keys()"
   ]
  },
  {
   "cell_type": "code",
   "execution_count": null,
   "metadata": {},
   "outputs": [],
   "source": [
    "set(df2[\"building\"])"
   ]
  },
  {
   "cell_type": "code",
   "execution_count": null,
   "metadata": {},
   "outputs": [],
   "source": [
    "my_dict.keys() - set(df2[\"building\"])"
   ]
  },
  {
   "cell_type": "code",
   "execution_count": null,
   "metadata": {},
   "outputs": [],
   "source": [
    "my_dict.keys()"
   ]
  },
  {
   "cell_type": "code",
   "execution_count": null,
   "metadata": {},
   "outputs": [],
   "source": [
    "len(df2)"
   ]
  },
  {
   "cell_type": "code",
   "execution_count": null,
   "metadata": {},
   "outputs": [],
   "source": [
    "df2.head()"
   ]
  },
  {
   "cell_type": "code",
   "execution_count": null,
   "metadata": {},
   "outputs": [],
   "source": [
    "df2 = df2.drop(df2[df2.Start == \"bye\"].index)"
   ]
  },
  {
   "cell_type": "code",
   "execution_count": null,
   "metadata": {},
   "outputs": [],
   "source": [
    "df2 = df2.drop(df2[df2.Start == df2.End].index)"
   ]
  },
  {
   "cell_type": "code",
   "execution_count": null,
   "metadata": {},
   "outputs": [],
   "source": [
    "df2 = df2.drop(df2[(df2.End.split(':')[0] * 60 + df2.End.split(':')[1]) - (df2.Start.split(':')[0] * 60 + df2.End.split(':')[1]) < 60].index)"
   ]
  },
  {
   "cell_type": "code",
   "execution_count": null,
   "metadata": {},
   "outputs": [],
   "source": [
    "arr2 = df2.to_numpy()"
   ]
  },
  {
   "cell_type": "code",
   "execution_count": null,
   "metadata": {},
   "outputs": [],
   "source": [
    "i = 3\n",
    "end = int(arr2[i, 1].split(':')[0]) * 60 + int(arr2[i, 1].split(':')[1])\n",
    "start = int(arr2[i, 0].split(':')[0]) * 60 + int(arr2[i, 0].split(':')[1])\n",
    "if end - start < 60:\n",
    "    arr[i][0] = \"bye\""
   ]
  },
  {
   "cell_type": "code",
   "execution_count": null,
   "metadata": {},
   "outputs": [],
   "source": [
    "arr[i][0]"
   ]
  },
  {
   "cell_type": "code",
   "execution_count": null,
   "metadata": {},
   "outputs": [],
   "source": [
    "for i in range(len(arr2)):\n",
    "    end = int(arr2[i, 1].split(':')[0]) * 60 + int(arr2[i, 1].split(':')[1])\n",
    "    start = int(arr2[i, 0].split(':')[0]) * 60 + int(arr2[i, 0].split(':')[1])\n",
    "    if end - start < 60:\n",
    "        arr2[i][0] = \"bye\""
   ]
  },
  {
   "cell_type": "code",
   "execution_count": null,
   "metadata": {},
   "outputs": [],
   "source": [
    "df2 = pd.DataFrame(arr2, columns=[\"Start\", \"End\", \"building\", \"room\"])"
   ]
  },
  {
   "cell_type": "code",
   "execution_count": null,
   "metadata": {},
   "outputs": [],
   "source": []
  },
  {
   "cell_type": "code",
   "execution_count": null,
   "metadata": {},
   "outputs": [],
   "source": [
    "df2.head()"
   ]
  },
  {
   "cell_type": "code",
   "execution_count": null,
   "metadata": {},
   "outputs": [],
   "source": [
    "df2 = df2.drop(df2[df2.Start == \"bye\"].index)"
   ]
  },
  {
   "cell_type": "code",
   "execution_count": null,
   "metadata": {},
   "outputs": [],
   "source": [
    "len(df2)"
   ]
  },
  {
   "cell_type": "code",
   "execution_count": null,
   "metadata": {},
   "outputs": [],
   "source": [
    "df2.to_csv(\"open_friday4.csv\", index=False, header=None)"
   ]
  },
  {
   "cell_type": "code",
   "execution_count": null,
   "metadata": {},
   "outputs": [],
   "source": [
    "df2.head(50)"
   ]
  },
  {
   "cell_type": "code",
   "execution_count": null,
   "metadata": {},
   "outputs": [],
   "source": []
  },
  {
   "cell_type": "code",
   "execution_count": null,
   "metadata": {},
   "outputs": [],
   "source": [
    "df2.head(50)"
   ]
  },
  {
   "cell_type": "code",
   "execution_count": null,
   "metadata": {},
   "outputs": [],
   "source": []
  },
  {
   "cell_type": "code",
   "execution_count": null,
   "metadata": {},
   "outputs": [],
   "source": [
    "len(df2)"
   ]
  },
  {
   "cell_type": "code",
   "execution_count": null,
   "metadata": {},
   "outputs": [],
   "source": [
    "df2.head()"
   ]
  },
  {
   "cell_type": "code",
   "execution_count": null,
   "metadata": {},
   "outputs": [],
   "source": [
    "df2.to_csv(\"open_friday3.csv\", index=False)"
   ]
  },
  {
   "cell_type": "code",
   "execution_count": null,
   "metadata": {},
   "outputs": [],
   "source": []
  },
  {
   "cell_type": "code",
   "execution_count": null,
   "metadata": {},
   "outputs": [],
   "source": []
  },
  {
   "cell_type": "code",
   "execution_count": null,
   "metadata": {},
   "outputs": [],
   "source": []
  },
  {
   "cell_type": "code",
   "execution_count": null,
   "metadata": {},
   "outputs": [],
   "source": [
    "df.to_csv(\"open_friday2.csv\", index=False)"
   ]
  },
  {
   "cell_type": "code",
   "execution_count": null,
   "metadata": {},
   "outputs": [],
   "source": []
  },
  {
   "cell_type": "code",
   "execution_count": null,
   "metadata": {},
   "outputs": [],
   "source": [
    "df.to_csv(\"open_friday2.csv\", index=False)"
   ]
  },
  {
   "cell_type": "code",
   "execution_count": null,
   "metadata": {},
   "outputs": [],
   "source": [
    "thing = df.to_dict()"
   ]
  },
  {
   "cell_type": "code",
   "execution_count": null,
   "metadata": {},
   "outputs": [],
   "source": [
    "thing = df[df[\"Start\"].str.split(':')[0] > 15]"
   ]
  },
  {
   "cell_type": "code",
   "execution_count": null,
   "metadata": {},
   "outputs": [],
   "source": [
    "for i in range(df):\n",
    "    df.at[i, \"Start\"] = df.at[i, \"Start\"].split(':')[0]"
   ]
  },
  {
   "cell_type": "code",
   "execution_count": null,
   "metadata": {},
   "outputs": [],
   "source": []
  },
  {
   "cell_type": "code",
   "execution_count": null,
   "metadata": {},
   "outputs": [],
   "source": [
    "thing.head()"
   ]
  }
 ],
 "metadata": {
  "kernelspec": {
   "display_name": "base",
   "language": "python",
   "name": "python3"
  },
  "language_info": {
   "codemirror_mode": {
    "name": "ipython",
    "version": 3
   },
   "file_extension": ".py",
   "mimetype": "text/x-python",
   "name": "python",
   "nbconvert_exporter": "python",
   "pygments_lexer": "ipython3",
   "version": "3.9.13"
  },
  "orig_nbformat": 4,
  "vscode": {
   "interpreter": {
    "hash": "2aed2efa9f387e5d10f2fb316807f26de9fdfb5328ebcc8d2085e52d2acd3c89"
   }
  }
 },
 "nbformat": 4,
 "nbformat_minor": 2
}
