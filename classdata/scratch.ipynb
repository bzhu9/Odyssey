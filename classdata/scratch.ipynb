{
 "cells": [
  {
   "cell_type": "code",
   "execution_count": 1,
   "metadata": {},
   "outputs": [],
   "source": [
    "import pandas as pd"
   ]
  },
  {
   "cell_type": "code",
   "execution_count": 2,
   "metadata": {},
   "outputs": [],
   "source": [
    "df = pd.read_csv(\"events.csv\")"
   ]
  },
  {
   "cell_type": "code",
   "execution_count": 3,
   "metadata": {},
   "outputs": [
    {
     "data": {
      "text/html": [
       "<div>\n",
       "<style scoped>\n",
       "    .dataframe tbody tr th:only-of-type {\n",
       "        vertical-align: middle;\n",
       "    }\n",
       "\n",
       "    .dataframe tbody tr th {\n",
       "        vertical-align: top;\n",
       "    }\n",
       "\n",
       "    .dataframe thead th {\n",
       "        text-align: right;\n",
       "    }\n",
       "</style>\n",
       "<table border=\"1\" class=\"dataframe\">\n",
       "  <thead>\n",
       "    <tr style=\"text-align: right;\">\n",
       "      <th></th>\n",
       "      <th>Name</th>\n",
       "      <th>Section</th>\n",
       "      <th>Type</th>\n",
       "      <th>Title</th>\n",
       "      <th>Note</th>\n",
       "      <th>Date</th>\n",
       "      <th>Published Start</th>\n",
       "      <th>Published End</th>\n",
       "      <th>Location</th>\n",
       "      <th>Capacity</th>\n",
       "      <th>Instructor / Organization</th>\n",
       "      <th>Email</th>\n",
       "      <th>Requested Services</th>\n",
       "      <th>Approved</th>\n",
       "      <th>Unnamed: 14</th>\n",
       "    </tr>\n",
       "  </thead>\n",
       "  <tbody>\n",
       "    <tr>\n",
       "      <th>0</th>\n",
       "      <td>AAE 52000</td>\n",
       "      <td>10096-011</td>\n",
       "      <td>Lecture</td>\n",
       "      <td>Exper Aerodynamics</td>\n",
       "      <td>NaN</td>\n",
       "      <td>02/22/2023</td>\n",
       "      <td>4:30p</td>\n",
       "      <td>5:20p</td>\n",
       "      <td>NISW 184</td>\n",
       "      <td>40</td>\n",
       "      <td>Jewell, Joseph S (Instr)</td>\n",
       "      <td>jsjewell@purdue.edu</td>\n",
       "      <td>NaN</td>\n",
       "      <td>09/21/2022</td>\n",
       "      <td>NaN</td>\n",
       "    </tr>\n",
       "    <tr>\n",
       "      <th>1</th>\n",
       "      <td>AAE 54500</td>\n",
       "      <td>22962-001</td>\n",
       "      <td>Lecture</td>\n",
       "      <td>Dynamic Behavior Of Materials</td>\n",
       "      <td>NaN</td>\n",
       "      <td>02/21/2023</td>\n",
       "      <td>9:00a</td>\n",
       "      <td>10:15a</td>\n",
       "      <td>BHEE 005</td>\n",
       "      <td>40</td>\n",
       "      <td>Chen, Weinong W (Instr)</td>\n",
       "      <td>wchen@purdue.edu</td>\n",
       "      <td>NaN</td>\n",
       "      <td>09/30/2022</td>\n",
       "      <td>NaN</td>\n",
       "    </tr>\n",
       "    <tr>\n",
       "      <th>2</th>\n",
       "      <td>AAE 59000ADC</td>\n",
       "      <td>15242-077</td>\n",
       "      <td>Lecture</td>\n",
       "      <td>Attitude Determination &amp; Cntrl</td>\n",
       "      <td>NaN</td>\n",
       "      <td>02/21/2023</td>\n",
       "      <td>1:30p</td>\n",
       "      <td>2:45p</td>\n",
       "      <td>ME 1051</td>\n",
       "      <td>50</td>\n",
       "      <td>Frueh, Carolin E (Instr)</td>\n",
       "      <td>cfrueh@purdue.edu</td>\n",
       "      <td>NaN</td>\n",
       "      <td>09/06/2022</td>\n",
       "      <td>NaN</td>\n",
       "    </tr>\n",
       "    <tr>\n",
       "      <th>3</th>\n",
       "      <td>AAE 59000CC</td>\n",
       "      <td>29767-075</td>\n",
       "      <td>Lecture</td>\n",
       "      <td>Comput Combust &amp; Propuls</td>\n",
       "      <td>NaN</td>\n",
       "      <td>02/21/2023</td>\n",
       "      <td>noon</td>\n",
       "      <td>1:15p</td>\n",
       "      <td>ARMS 1021</td>\n",
       "      <td>40</td>\n",
       "      <td>Wang, Haifeng (Instr)</td>\n",
       "      <td>haifeng@purdue.edu</td>\n",
       "      <td>NaN</td>\n",
       "      <td>09/21/2022</td>\n",
       "      <td>NaN</td>\n",
       "    </tr>\n",
       "    <tr>\n",
       "      <th>4</th>\n",
       "      <td>AAE 59000LGR</td>\n",
       "      <td>28367-090</td>\n",
       "      <td>Lecture</td>\n",
       "      <td>Lie Groups In Robotics</td>\n",
       "      <td>NaN</td>\n",
       "      <td>02/20/2023</td>\n",
       "      <td>2:30p</td>\n",
       "      <td>3:20p</td>\n",
       "      <td>ARMS 3109</td>\n",
       "      <td>20</td>\n",
       "      <td>Goppert, James Michael (Instr)</td>\n",
       "      <td>jgoppert@purdue.edu</td>\n",
       "      <td>NaN</td>\n",
       "      <td>09/21/2022</td>\n",
       "      <td>NaN</td>\n",
       "    </tr>\n",
       "  </tbody>\n",
       "</table>\n",
       "</div>"
      ],
      "text/plain": [
       "           Name    Section     Type                           Title Note  \\\n",
       "0     AAE 52000  10096-011  Lecture              Exper Aerodynamics  NaN   \n",
       "1     AAE 54500  22962-001  Lecture   Dynamic Behavior Of Materials  NaN   \n",
       "2  AAE 59000ADC  15242-077  Lecture  Attitude Determination & Cntrl  NaN   \n",
       "3   AAE 59000CC  29767-075  Lecture        Comput Combust & Propuls  NaN   \n",
       "4  AAE 59000LGR  28367-090  Lecture          Lie Groups In Robotics  NaN   \n",
       "\n",
       "         Date Published Start Published End   Location  Capacity  \\\n",
       "0  02/22/2023           4:30p         5:20p   NISW 184        40   \n",
       "1  02/21/2023           9:00a        10:15a   BHEE 005        40   \n",
       "2  02/21/2023           1:30p         2:45p    ME 1051        50   \n",
       "3  02/21/2023            noon         1:15p  ARMS 1021        40   \n",
       "4  02/20/2023           2:30p         3:20p  ARMS 3109        20   \n",
       "\n",
       "        Instructor / Organization                Email  Requested Services  \\\n",
       "0        Jewell, Joseph S (Instr)  jsjewell@purdue.edu                 NaN   \n",
       "1         Chen, Weinong W (Instr)     wchen@purdue.edu                 NaN   \n",
       "2        Frueh, Carolin E (Instr)    cfrueh@purdue.edu                 NaN   \n",
       "3           Wang, Haifeng (Instr)   haifeng@purdue.edu                 NaN   \n",
       "4  Goppert, James Michael (Instr)  jgoppert@purdue.edu                 NaN   \n",
       "\n",
       "     Approved  Unnamed: 14  \n",
       "0  09/21/2022          NaN  \n",
       "1  09/30/2022          NaN  \n",
       "2  09/06/2022          NaN  \n",
       "3  09/21/2022          NaN  \n",
       "4  09/21/2022          NaN  "
      ]
     },
     "execution_count": 3,
     "metadata": {},
     "output_type": "execute_result"
    }
   ],
   "source": [
    "df.head()"
   ]
  },
  {
   "cell_type": "code",
   "execution_count": 5,
   "metadata": {},
   "outputs": [
    {
     "data": {
      "text/plain": [
       "188"
      ]
     },
     "execution_count": 5,
     "metadata": {},
     "output_type": "execute_result"
    }
   ],
   "source": [
    "len(df[\"Location\"].unique())"
   ]
  },
  {
   "cell_type": "code",
   "execution_count": 10,
   "metadata": {},
   "outputs": [
    {
     "data": {
      "text/plain": [
       "'NISW 184'"
      ]
     },
     "execution_count": 10,
     "metadata": {},
     "output_type": "execute_result"
    }
   ],
   "source": [
    "df[\"Location\"].unique()[0]"
   ]
  },
  {
   "cell_type": "code",
   "execution_count": 11,
   "metadata": {},
   "outputs": [],
   "source": [
    "list2 = set()\n",
    "for i in df[\"Location\"].unique():\n",
    "    list2.add(i.split()[0])"
   ]
  },
  {
   "cell_type": "code",
   "execution_count": 15,
   "metadata": {},
   "outputs": [],
   "source": [
    "list3 = list(df[\"Location\"].unique())"
   ]
  },
  {
   "cell_type": "code",
   "execution_count": 16,
   "metadata": {},
   "outputs": [
    {
     "data": {
      "text/plain": [
       "188"
      ]
     },
     "execution_count": 16,
     "metadata": {},
     "output_type": "execute_result"
    }
   ],
   "source": [
    "len(list3)"
   ]
  },
  {
   "cell_type": "code",
   "execution_count": 12,
   "metadata": {},
   "outputs": [
    {
     "data": {
      "text/plain": [
       "37"
      ]
     },
     "execution_count": 12,
     "metadata": {},
     "output_type": "execute_result"
    }
   ],
   "source": [
    "len(list2)"
   ]
  },
  {
   "cell_type": "code",
   "execution_count": 13,
   "metadata": {},
   "outputs": [
    {
     "name": "stdout",
     "output_type": "stream",
     "text": [
      "{'LILY', 'HAMP', 'RHPH', 'ABE', 'BCHM', 'LAMB', 'ARMS', 'BHEE', 'PRCE', 'UNIV', 'SMTH', 'AR', 'STON', 'BRWN', 'GRIS', 'FRNY', 'LWSN', 'PAO', 'KNOY', 'HEAV', 'WTHR', 'MSEE', 'PSYC', 'SC', 'RAWL', 'NISW', 'PHYS', 'MJIS', 'SCHM', 'CL50', 'KRAN', 'MATH', 'BRNG', 'VPTH', 'LYLE', 'ME', 'WALC'}\n"
     ]
    }
   ],
   "source": [
    "print(list2)"
   ]
  },
  {
   "cell_type": "code",
   "execution_count": 8,
   "metadata": {},
   "outputs": [],
   "source": [
    "unique_list = [name.split()[0] for name in df[\"Location\"].unique()]"
   ]
  },
  {
   "cell_type": "code",
   "execution_count": null,
   "metadata": {},
   "outputs": [],
   "source": [
    "dic = dict()\n",
    "dic."
   ]
  },
  {
   "cell_type": "code",
   "execution_count": 9,
   "metadata": {},
   "outputs": [
    {
     "data": {
      "text/plain": [
       "188"
      ]
     },
     "execution_count": 9,
     "metadata": {},
     "output_type": "execute_result"
    }
   ],
   "source": [
    "len(unique_list)"
   ]
  },
  {
   "cell_type": "code",
   "execution_count": 22,
   "metadata": {},
   "outputs": [
    {
     "data": {
      "text/plain": [
       "'NISW'"
      ]
     },
     "execution_count": 22,
     "metadata": {},
     "output_type": "execute_result"
    }
   ],
   "source": [
    "df[\"Location\"].unique()[0].split()[0]"
   ]
  },
  {
   "cell_type": "code",
   "execution_count": 29,
   "metadata": {},
   "outputs": [],
   "source": [
    "building = dict()\n",
    "for room in df[\"Location\"].unique():\n",
    "    if building.get(room.split()[0], 0) == 0:\n",
    "        building[room.split()[0]] = [room.split()[1]]\n",
    "    else:\n",
    "        building[room.split()[0]].append(room.split()[1])\n"
   ]
  },
  {
   "cell_type": "code",
   "execution_count": 34,
   "metadata": {},
   "outputs": [],
   "source": [
    "import datetime"
   ]
  },
  {
   "cell_type": "code",
   "execution_count": 40,
   "metadata": {},
   "outputs": [
    {
     "data": {
      "text/plain": [
       "23"
      ]
     },
     "execution_count": 40,
     "metadata": {},
     "output_type": "execute_result"
    }
   ],
   "source": [
    "datetime.datetime.today().day"
   ]
  },
  {
   "cell_type": "code",
   "execution_count": 33,
   "metadata": {},
   "outputs": [
    {
     "name": "stdout",
     "output_type": "stream",
     "text": [
      "building:NISW rooms:['184']\n",
      "building:BHEE rooms:['005', '236', '115', '226', '224', '222']\n",
      "building:ME rooms:['1051', '1015', '1006', '2053', '2004', '3006']\n",
      "building:ARMS rooms:['1021', '3109', '1103', '3115', '1028']\n",
      "building:SC rooms:['102', '108', 'G060', 'G039', 'G030', 'G064', 'G008', 'G014', 'G002', 'G040', '114', 'G032', 'G038']\n",
      "building:BRNG rooms:['B260', 'B248', 'B212', 'B254', 'B206', 'B232', 'B238', 'B230', 'B242', '1232', '2291', '1260', '1243', '1238', '1242', 'B261', '2275', '1255', 'B243', 'B268', '1245', 'B222', 'B247', '1206', '1222', '1248', '1230', '1254', '1268']\n",
      "building:UNIV rooms:['019', '001', '101', '201', '103', '317', '003', '319', '219', '217', '017', '119', '303', '117', '203', '301']\n",
      "building:SCHM rooms:['303', '317', '112', '117', '108', '116', '103', '314', '227', '225', '226', '315', '307', '302', '316', '309', '313', '114', '123', '121', '122', '308', '113']\n",
      "building:ABE rooms:['B053', 'B061']\n",
      "building:SMTH rooms:['208', '201']\n",
      "building:PAO rooms:['B157', '1197']\n",
      "building:LILY rooms:['3102', '3418', 'G458', 'G401']\n",
      "building:AR rooms:['101', '102']\n",
      "building:KRAN rooms:['G005', 'G012', 'G023', 'G009', 'G004', 'G010', 'G013', 'G007', 'G021', 'G002']\n",
      "building:RAWL rooms:['1071', '2079', '2058', '2077']\n",
      "building:PSYC rooms:['3102', '3187', '2102']\n",
      "building:STON rooms:['217', '215']\n",
      "building:WALC rooms:['3127', '3138', '3132', '2127', '3084', '3121', '3148', '3154', '2121']\n",
      "building:PHYS rooms:['331', '338', '111', '110', '333', '202', '201']\n",
      "building:BCHM rooms:['102']\n",
      "building:MJIS rooms:['1083']\n",
      "building:HAMP rooms:['3153', '2113', '2123', '1113', '2118', '1266', '2107', '2108', '2102', '2117', '2101']\n",
      "building:FRNY rooms:['1043']\n",
      "building:GRIS rooms:['134', '125', '133', '118', '126']\n",
      "building:BRWN rooms:['3102', '3100', '3104']\n",
      "building:WTHR rooms:['360', '420', '362']\n",
      "building:CL50 rooms:['125', '121', '129']\n",
      "building:RHPH rooms:['162']\n",
      "building:KNOY rooms:['B031', 'B029', 'B041']\n",
      "building:VPTH rooms:['112']\n",
      "building:LWSN rooms:['B134', '1106']\n",
      "building:LAMB rooms:['104', '105']\n",
      "building:MATH rooms:['215']\n",
      "building:MSEE rooms:['B010']\n",
      "building:HEAV rooms:['206']\n",
      "building:PRCE rooms:['277']\n",
      "building:LYLE rooms:['1150']\n"
     ]
    }
   ],
   "source": [
    "for build in building:\n",
    "    print(f'building:{build} rooms:{building[build]}')"
   ]
  },
  {
   "cell_type": "code",
   "execution_count": 49,
   "metadata": {},
   "outputs": [],
   "source": [
    "df = pd.read_csv(\"../data.csv\")"
   ]
  },
  {
   "cell_type": "code",
   "execution_count": 50,
   "metadata": {},
   "outputs": [
    {
     "data": {
      "text/plain": [
       "1824"
      ]
     },
     "execution_count": 50,
     "metadata": {},
     "output_type": "execute_result"
    }
   ],
   "source": [
    "len(df)"
   ]
  },
  {
   "cell_type": "code",
   "execution_count": 44,
   "metadata": {},
   "outputs": [],
   "source": [
    "import uniquerooms"
   ]
  },
  {
   "cell_type": "code",
   "execution_count": 51,
   "metadata": {},
   "outputs": [],
   "source": [
    "rooms_dict = uniquerooms.find_rooms(df)"
   ]
  },
  {
   "cell_type": "code",
   "execution_count": 54,
   "metadata": {},
   "outputs": [
    {
     "name": "stdout",
     "output_type": "stream",
     "text": [
      "building:STEW rooms:['320', '314']\n",
      "building:ARMS rooms:['B061', '1010', 'B071', '1021', '1109', '3115', '1028', '3109', '1103']\n",
      "building:ME rooms:['2061', '1051', '1012', '1015', '1061', '1009', '1130', '2053', '3006', '1052', '2004', '1006']\n",
      "building:WALC rooms:['B074', '1018', '2007', '2088', 'B066', '1055', '2087', '3087', '3132', '3090', '3138', '3121', 'B058', '1132', '2124', '3084', '3127', '1087', '2127', 'B093', '1121', '2051', '3148', '3122', 'B091', '3154', '2121']\n",
      "building:PHYS rooms:['203', '223', '114', '331', '338', '112', '111', '201', '202', '333', '110', '238']\n",
      "building:BHEE rooms:['117', '005', '129', '170', '236', '115', '226', '224', '222']\n",
      "building:HAMP rooms:['1144', '1266', '3153', '2113', '1252', '1113', '2107', '2118', '2108', '2102', '2117', '2101', '2123']\n",
      "building:MSEE rooms:['B012', 'B010']\n",
      "building:FORS rooms:['216']\n",
      "building:SMTH rooms:['108', '208', '118', '201']\n",
      "building:LWSN rooms:['B155', 'B151', 'B134', '1106']\n",
      "building:KNOY rooms:['B033', 'B029', 'B041', 'B031']\n",
      "building:SC rooms:['102', 'G060', 'G039', 'G030', 'G064', '239', 'G014', 'G002', 'G008', '108', 'G038', 'G040', 'G032', '114']\n",
      "building:UNIV rooms:['019', '001', '201', '103', '317', '319', '219', '119', '303', '117', '101', '017', '301', '203', '217', '003']\n",
      "building:SCHM rooms:['303', '307', '317', '103', '225', '112', '314', '226', '315', '116', '227', '302', '108', '313', '122', '309', '123', '114', '121', '117', '316', '113', '308']\n",
      "building:ABE rooms:['B053', 'B061', 'B073']\n",
      "building:LILY rooms:['2102', '3102', 'G126', '3418', 'G420', '3410', '3118', '1105', 'G458', 'G401']\n",
      "building:MJIS rooms:['1001', '1083']\n",
      "building:BRNG rooms:['2280', 'B212', 'B254', 'B232', 'B238', 'B230', '1260', '1242', '1232', '1238', 'B261', '2291', '2275', '1243', '1254', '1255', 'B243', 'B247', '1222', 'B206', '1206', 'B260', '2290', 'B268', '1230', '1268', '1248', '1245', 'B248', 'B242', 'B222']\n",
      "building:PAO rooms:['B157', '1197']\n",
      "building:AR rooms:['102', '101']\n",
      "building:CL50 rooms:['224', '121', '129', '125']\n",
      "building:KRAN rooms:['G016', 'G005', 'G023', 'G009', 'G004', 'G002', 'G020', 'G010', 'G018', 'G012', 'G013', 'G007', 'G021']\n",
      "building:RAWL rooms:['1071', '1086', '1011', '3058', '1062', '2070', '2079', '2058', '1057', '2077', '2082']\n",
      "building:MATH rooms:['175', '215']\n",
      "building:CRTN rooms:['1011']\n",
      "building:WTHR rooms:['172', '104', '200', '320', '160', '362', '420', '360']\n",
      "building:STON rooms:['217', '215']\n",
      "building:MTHW rooms:['304', '210']\n",
      "building:NISW rooms:['184', '157', '149']\n",
      "building:BCHM rooms:['105', '102']\n",
      "building:LYNN rooms:['1136', 'G167', 'G210']\n",
      "building:HAAS rooms:['G066']\n",
      "building:RHPH rooms:['164', '172', '162']\n",
      "building:PSYC rooms:['3187', '3102', '2102']\n",
      "building:FRNY rooms:['B124', '1043', 'G124', 'G140']\n",
      "building:GRIS rooms:['134', '125', '133', '103', '126', '102', '118']\n",
      "building:BRWN rooms:['3102', '3100', '3104', '1154']\n",
      "building:HIKS rooms:['G980D']\n",
      "building:LAMB rooms:['104', '108', '105']\n",
      "building:UC rooms:['114']\n",
      "building:HEAV rooms:['206']\n",
      "building:NLSN rooms:['1215', '1195']\n",
      "building:HORT rooms:['117']\n",
      "building:PRCE rooms:['277']\n",
      "building:LYLE rooms:['1160', '1150']\n",
      "building:VPTH rooms:['112']\n"
     ]
    }
   ],
   "source": [
    "for build in rooms_dict:\n",
    "    print(f'building:{build} rooms:{rooms_dict[build]}')"
   ]
  },
  {
   "cell_type": "code",
   "execution_count": 52,
   "metadata": {},
   "outputs": [
    {
     "data": {
      "text/plain": [
       "47"
      ]
     },
     "execution_count": 52,
     "metadata": {},
     "output_type": "execute_result"
    }
   ],
   "source": [
    "len(rooms_dict)"
   ]
  },
  {
   "cell_type": "code",
   "execution_count": 53,
   "metadata": {},
   "outputs": [
    {
     "data": {
      "text/plain": [
       "288"
      ]
     },
     "execution_count": 53,
     "metadata": {},
     "output_type": "execute_result"
    }
   ],
   "source": [
    "len(df[\"Location\"].unique())"
   ]
  },
  {
   "cell_type": "code",
   "execution_count": 60,
   "metadata": {},
   "outputs": [
    {
     "data": {
      "text/plain": [
       "'.csv'"
      ]
     },
     "execution_count": 60,
     "metadata": {},
     "output_type": "execute_result"
    }
   ],
   "source": [
    "\"data.csv\"[-4:]"
   ]
  }
 ],
 "metadata": {
  "kernelspec": {
   "display_name": "base",
   "language": "python",
   "name": "python3"
  },
  "language_info": {
   "codemirror_mode": {
    "name": "ipython",
    "version": 3
   },
   "file_extension": ".py",
   "mimetype": "text/x-python",
   "name": "python",
   "nbconvert_exporter": "python",
   "pygments_lexer": "ipython3",
   "version": "3.9.13"
  },
  "orig_nbformat": 4,
  "vscode": {
   "interpreter": {
    "hash": "2aed2efa9f387e5d10f2fb316807f26de9fdfb5328ebcc8d2085e52d2acd3c89"
   }
  }
 },
 "nbformat": 4,
 "nbformat_minor": 2
}
