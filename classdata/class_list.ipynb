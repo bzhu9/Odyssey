{
 "cells": [
  {
   "cell_type": "code",
   "execution_count": 9,
   "metadata": {},
   "outputs": [],
   "source": [
    "import pandas as pd\n",
    "import json"
   ]
  },
  {
   "cell_type": "code",
   "execution_count": 2,
   "metadata": {},
   "outputs": [],
   "source": [
    "df = pd.read_csv(\"week.csv\")"
   ]
  },
  {
   "cell_type": "code",
   "execution_count": 3,
   "metadata": {},
   "outputs": [],
   "source": [
    "location_list = [string[0] for string in df['Location'].str.split()]"
   ]
  },
  {
   "cell_type": "code",
   "execution_count": 4,
   "metadata": {},
   "outputs": [
    {
     "data": {
      "text/plain": [
       "8768"
      ]
     },
     "execution_count": 4,
     "metadata": {},
     "output_type": "execute_result"
    }
   ],
   "source": [
    "len(location_list)"
   ]
  },
  {
   "cell_type": "code",
   "execution_count": 5,
   "metadata": {},
   "outputs": [],
   "source": [
    "location_set = set(location_list)"
   ]
  },
  {
   "cell_type": "code",
   "execution_count": 6,
   "metadata": {},
   "outputs": [
    {
     "data": {
      "text/plain": [
       "47"
      ]
     },
     "execution_count": 6,
     "metadata": {},
     "output_type": "execute_result"
    }
   ],
   "source": [
    "len(location_set)"
   ]
  },
  {
   "cell_type": "code",
   "execution_count": 7,
   "metadata": {},
   "outputs": [
    {
     "name": "stdout",
     "output_type": "stream",
     "text": [
      "{'MTHW', 'GRIS', 'STON', 'HEAV', 'FRNY', 'KNOY', 'PAO', 'CL50', 'STEW', 'LYNN', 'BHEE', 'RAWL', 'HAAS', 'MSEE', 'LAMB', 'AR', 'PRCE', 'UC', 'HORT', 'MJIS', 'NLSN', 'ABE', 'HAMP', 'MATH', 'PHYS', 'SCHM', 'LILY', 'SMTH', 'HIKS', 'ARMS', 'WALC', 'LYLE', 'KRAN', 'CRTN', 'FORS', 'WTHR', 'SC', 'ME', 'LWSN', 'BRNG', 'UNIV', 'PSYC', 'RHPH', 'VPTH', 'BRWN', 'BCHM', 'NISW'}\n"
     ]
    }
   ],
   "source": [
    "print(location_set)"
   ]
  },
  {
   "cell_type": "code",
   "execution_count": 10,
   "metadata": {},
   "outputs": [],
   "source": [
    "with open(\"build_address.json\") as json_data:\n",
    "    build_dict = json.load(json_data)"
   ]
  },
  {
   "cell_type": "code",
   "execution_count": 11,
   "metadata": {},
   "outputs": [],
   "source": [
    "build_set = set(build_dict.keys())"
   ]
  },
  {
   "cell_type": "code",
   "execution_count": 12,
   "metadata": {},
   "outputs": [
    {
     "data": {
      "text/plain": [
       "{'CRTN', 'FORS', 'HAAS', 'HIKS', 'HORT', 'LYNN', 'MTHW', 'NLSN', 'STEW', 'UC'}"
      ]
     },
     "execution_count": 12,
     "metadata": {},
     "output_type": "execute_result"
    }
   ],
   "source": [
    "location_set - build_set"
   ]
  },
  {
   "cell_type": "code",
   "execution_count": 1,
   "metadata": {},
   "outputs": [],
   "source": [
    "import pandas as pd"
   ]
  },
  {
   "cell_type": "code",
   "execution_count": 2,
   "metadata": {},
   "outputs": [],
   "source": [
    "df = pd.read_csv(\"combined_address.csv\")"
   ]
  },
  {
   "cell_type": "code",
   "execution_count": 3,
   "metadata": {},
   "outputs": [
    {
     "data": {
      "text/html": [
       "<div>\n",
       "<style scoped>\n",
       "    .dataframe tbody tr th:only-of-type {\n",
       "        vertical-align: middle;\n",
       "    }\n",
       "\n",
       "    .dataframe tbody tr th {\n",
       "        vertical-align: top;\n",
       "    }\n",
       "\n",
       "    .dataframe thead th {\n",
       "        text-align: right;\n",
       "    }\n",
       "</style>\n",
       "<table border=\"1\" class=\"dataframe\">\n",
       "  <thead>\n",
       "    <tr style=\"text-align: right;\">\n",
       "      <th></th>\n",
       "      <th>Building</th>\n",
       "      <th>Address</th>\n",
       "      <th>Combined</th>\n",
       "    </tr>\n",
       "  </thead>\n",
       "  <tbody>\n",
       "    <tr>\n",
       "      <th>0</th>\n",
       "      <td>LILY</td>\n",
       "      <td>915 W. State Street</td>\n",
       "      <td>40.42366383320516, -86.91800720160523</td>\n",
       "    </tr>\n",
       "    <tr>\n",
       "      <th>1</th>\n",
       "      <td>HAMP</td>\n",
       "      <td>550 Stadium Mall Drive</td>\n",
       "      <td>40.43039677265733, -86.91476679578477</td>\n",
       "    </tr>\n",
       "    <tr>\n",
       "      <th>2</th>\n",
       "      <td>RHPH</td>\n",
       "      <td>575 Stadium Mall Drive</td>\n",
       "      <td>40.429988082756594, -86.91593308811288</td>\n",
       "    </tr>\n",
       "    <tr>\n",
       "      <th>3</th>\n",
       "      <td>ABE</td>\n",
       "      <td>225 S University Street</td>\n",
       "      <td>40.42184583828238, -86.91660228811303</td>\n",
       "    </tr>\n",
       "    <tr>\n",
       "      <th>4</th>\n",
       "      <td>BCHM</td>\n",
       "      <td>175 S University Street</td>\n",
       "      <td>40.42293206462245, -86.91632183044118</td>\n",
       "    </tr>\n",
       "  </tbody>\n",
       "</table>\n",
       "</div>"
      ],
      "text/plain": [
       "  Building                  Address                                Combined\n",
       "0     LILY      915 W. State Street   40.42366383320516, -86.91800720160523\n",
       "1     HAMP   550 Stadium Mall Drive   40.43039677265733, -86.91476679578477\n",
       "2     RHPH   575 Stadium Mall Drive  40.429988082756594, -86.91593308811288\n",
       "3      ABE  225 S University Street   40.42184583828238, -86.91660228811303\n",
       "4     BCHM  175 S University Street   40.42293206462245, -86.91632183044118"
      ]
     },
     "execution_count": 3,
     "metadata": {},
     "output_type": "execute_result"
    }
   ],
   "source": [
    "df.head()"
   ]
  },
  {
   "cell_type": "code",
   "execution_count": 5,
   "metadata": {},
   "outputs": [],
   "source": [
    "df.drop([\"Address\"], axis=1, inplace=True)"
   ]
  },
  {
   "cell_type": "code",
   "execution_count": 7,
   "metadata": {},
   "outputs": [
    {
     "data": {
      "text/html": [
       "<div>\n",
       "<style scoped>\n",
       "    .dataframe tbody tr th:only-of-type {\n",
       "        vertical-align: middle;\n",
       "    }\n",
       "\n",
       "    .dataframe tbody tr th {\n",
       "        vertical-align: top;\n",
       "    }\n",
       "\n",
       "    .dataframe thead th {\n",
       "        text-align: right;\n",
       "    }\n",
       "</style>\n",
       "<table border=\"1\" class=\"dataframe\">\n",
       "  <thead>\n",
       "    <tr style=\"text-align: right;\">\n",
       "      <th></th>\n",
       "      <th>Building</th>\n",
       "      <th>Combined</th>\n",
       "      <th>lat</th>\n",
       "    </tr>\n",
       "  </thead>\n",
       "  <tbody>\n",
       "    <tr>\n",
       "      <th>0</th>\n",
       "      <td>LILY</td>\n",
       "      <td>40.42366383320516, -86.91800720160523</td>\n",
       "      <td>NaN</td>\n",
       "    </tr>\n",
       "    <tr>\n",
       "      <th>1</th>\n",
       "      <td>HAMP</td>\n",
       "      <td>40.43039677265733, -86.91476679578477</td>\n",
       "      <td>NaN</td>\n",
       "    </tr>\n",
       "    <tr>\n",
       "      <th>2</th>\n",
       "      <td>RHPH</td>\n",
       "      <td>40.429988082756594, -86.91593308811288</td>\n",
       "      <td>NaN</td>\n",
       "    </tr>\n",
       "    <tr>\n",
       "      <th>3</th>\n",
       "      <td>ABE</td>\n",
       "      <td>40.42184583828238, -86.91660228811303</td>\n",
       "      <td>NaN</td>\n",
       "    </tr>\n",
       "    <tr>\n",
       "      <th>4</th>\n",
       "      <td>BCHM</td>\n",
       "      <td>40.42293206462245, -86.91632183044118</td>\n",
       "      <td>NaN</td>\n",
       "    </tr>\n",
       "  </tbody>\n",
       "</table>\n",
       "</div>"
      ],
      "text/plain": [
       "  Building                                Combined  lat\n",
       "0     LILY   40.42366383320516, -86.91800720160523  NaN\n",
       "1     HAMP   40.43039677265733, -86.91476679578477  NaN\n",
       "2     RHPH  40.429988082756594, -86.91593308811288  NaN\n",
       "3      ABE   40.42184583828238, -86.91660228811303  NaN\n",
       "4     BCHM   40.42293206462245, -86.91632183044118  NaN"
      ]
     },
     "execution_count": 7,
     "metadata": {},
     "output_type": "execute_result"
    }
   ],
   "source": [
    "df.head()"
   ]
  },
  {
   "cell_type": "code",
   "execution_count": 9,
   "metadata": {},
   "outputs": [],
   "source": [
    "for i in range(len(df)):\n",
    "    df.at[i, 'lat'] = df.at[i, 'Combined'].split(', ')[0]\n",
    "    df.at[i, 'long'] = df.at[i, 'Combined'].split(', ')[1]"
   ]
  },
  {
   "cell_type": "code",
   "execution_count": 11,
   "metadata": {},
   "outputs": [],
   "source": [
    "df.drop([\"Combined\"], axis=1, inplace=True)"
   ]
  },
  {
   "cell_type": "code",
   "execution_count": 12,
   "metadata": {},
   "outputs": [
    {
     "data": {
      "text/html": [
       "<div>\n",
       "<style scoped>\n",
       "    .dataframe tbody tr th:only-of-type {\n",
       "        vertical-align: middle;\n",
       "    }\n",
       "\n",
       "    .dataframe tbody tr th {\n",
       "        vertical-align: top;\n",
       "    }\n",
       "\n",
       "    .dataframe thead th {\n",
       "        text-align: right;\n",
       "    }\n",
       "</style>\n",
       "<table border=\"1\" class=\"dataframe\">\n",
       "  <thead>\n",
       "    <tr style=\"text-align: right;\">\n",
       "      <th></th>\n",
       "      <th>Building</th>\n",
       "      <th>lat</th>\n",
       "      <th>long</th>\n",
       "    </tr>\n",
       "  </thead>\n",
       "  <tbody>\n",
       "    <tr>\n",
       "      <th>0</th>\n",
       "      <td>LILY</td>\n",
       "      <td>40.42366383320516</td>\n",
       "      <td>-86.91800720160523</td>\n",
       "    </tr>\n",
       "    <tr>\n",
       "      <th>1</th>\n",
       "      <td>HAMP</td>\n",
       "      <td>40.43039677265733</td>\n",
       "      <td>-86.91476679578477</td>\n",
       "    </tr>\n",
       "    <tr>\n",
       "      <th>2</th>\n",
       "      <td>RHPH</td>\n",
       "      <td>40.429988082756594</td>\n",
       "      <td>-86.91593308811288</td>\n",
       "    </tr>\n",
       "    <tr>\n",
       "      <th>3</th>\n",
       "      <td>ABE</td>\n",
       "      <td>40.42184583828238</td>\n",
       "      <td>-86.91660228811303</td>\n",
       "    </tr>\n",
       "    <tr>\n",
       "      <th>4</th>\n",
       "      <td>BCHM</td>\n",
       "      <td>40.42293206462245</td>\n",
       "      <td>-86.91632183044118</td>\n",
       "    </tr>\n",
       "  </tbody>\n",
       "</table>\n",
       "</div>"
      ],
      "text/plain": [
       "  Building                 lat                long\n",
       "0     LILY   40.42366383320516  -86.91800720160523\n",
       "1     HAMP   40.43039677265733  -86.91476679578477\n",
       "2     RHPH  40.429988082756594  -86.91593308811288\n",
       "3      ABE   40.42184583828238  -86.91660228811303\n",
       "4     BCHM   40.42293206462245  -86.91632183044118"
      ]
     },
     "execution_count": 12,
     "metadata": {},
     "output_type": "execute_result"
    }
   ],
   "source": [
    "df.head()"
   ]
  },
  {
   "cell_type": "code",
   "execution_count": 14,
   "metadata": {},
   "outputs": [],
   "source": [
    "json = df.set_index('Building')"
   ]
  },
  {
   "cell_type": "code",
   "execution_count": 17,
   "metadata": {},
   "outputs": [],
   "source": [
    "json.to_json('coordinates.json', orient='index')"
   ]
  },
  {
   "cell_type": "code",
   "execution_count": null,
   "metadata": {},
   "outputs": [],
   "source": []
  }
 ],
 "metadata": {
  "kernelspec": {
   "display_name": "base",
   "language": "python",
   "name": "python3"
  },
  "language_info": {
   "codemirror_mode": {
    "name": "ipython",
    "version": 3
   },
   "file_extension": ".py",
   "mimetype": "text/x-python",
   "name": "python",
   "nbconvert_exporter": "python",
   "pygments_lexer": "ipython3",
   "version": "3.9.13"
  },
  "orig_nbformat": 4,
  "vscode": {
   "interpreter": {
    "hash": "2aed2efa9f387e5d10f2fb316807f26de9fdfb5328ebcc8d2085e52d2acd3c89"
   }
  }
 },
 "nbformat": 4,
 "nbformat_minor": 2
}
