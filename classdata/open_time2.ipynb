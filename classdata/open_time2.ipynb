{
 "cells": [
  {
   "cell_type": "code",
   "execution_count": null,
   "metadata": {},
   "outputs": [],
   "source": [
    "import pandas as pd"
   ]
  },
  {
   "cell_type": "code",
   "execution_count": null,
   "metadata": {},
   "outputs": [],
   "source": [
    "df = pd.read_csv(\"meetings.csv\")"
   ]
  },
  {
   "cell_type": "code",
   "execution_count": null,
   "metadata": {},
   "outputs": [],
   "source": [
    "len(df)"
   ]
  },
  {
   "cell_type": "code",
   "execution_count": null,
   "metadata": {},
   "outputs": [],
   "source": [
    "def clean_file(df):\n",
    "    df.drop(df.columns[len(df.columns)-1], axis=1, inplace=True)\n",
    "    for i in range(len(df)):\n",
    "        start = df.at[i, 'Published Start']\n",
    "        if start[-1] == 'a' or start[0:2] == '12':\n",
    "            if len(start.split(':')[0]) == 1:\n",
    "                df.at[i, 'Published Start'] = '0%s' %(start[:-1])\n",
    "            else:\n",
    "                df.at[i, 'Published Start'] = start[:-1]\n",
    "        elif start == 'noon':\n",
    "            df.at[i, 'Published Start'] = '12:00'\n",
    "        else:\n",
    "            hour = int(start.split(':')[0])\n",
    "            hour += 12\n",
    "            rest = start.split(':')[1]\n",
    "            df.at[i, 'Published Start'] = '%d:%s' %(hour,rest[0:2])\n",
    "\n",
    "\n",
    "        end = df.at[i, 'Published End']\n",
    "        if end[-1] == 'a' or end[0:2] == '12':\n",
    "            if len(end.split(':')[0]) == 1:\n",
    "                df.at[i, 'Published End'] = '0%s' %(end[:-1])\n",
    "            else:\n",
    "                df.at[i, 'Published End'] = end[:-1]\n",
    "        elif end == 'noon':\n",
    "            df.at[i, 'Published End'] = '12:00'\n",
    "        else:\n",
    "            hour = int(end.split(':')[0])\n",
    "            hour += 12\n",
    "            rest = end.split(':')[1]\n",
    "            df.at[i, 'Published End'] = '%d:%s' %(hour,rest[0:2])\n",
    "\n",
    "        df.at[i, 'Building'] = df.at[i, 'Location'].split()[0]\n",
    "        df.at[i, 'Room'] = df.at[i, 'Location'].split()[1]"
   ]
  },
  {
   "cell_type": "code",
   "execution_count": null,
   "metadata": {},
   "outputs": [],
   "source": [
    "def combine_time(df):\n",
    "    for i in range(len(df)):\n",
    "        df.at[i, \"Start Time\"] = df.at[0, \"Date\"] + \"T\" + df.at[0, \"Published Start\"]\n",
    "        df.at[i, \"End Time\"] = df.at[0, \"Date\"] + \"T\" + df.at[0, \"Published End\"]"
   ]
  },
  {
   "cell_type": "code",
   "execution_count": null,
   "metadata": {},
   "outputs": [],
   "source": [
    "clean_file(df)"
   ]
  },
  {
   "cell_type": "code",
   "execution_count": null,
   "metadata": {},
   "outputs": [],
   "source": [
    "combine_time(df)"
   ]
  },
  {
   "cell_type": "code",
   "execution_count": null,
   "metadata": {},
   "outputs": [],
   "source": [
    "df[\"Start Time\"] = pd.to_datetime(df['Start Time']).dt.strftime('%m-%d-%YT%H:%M')"
   ]
  },
  {
   "cell_type": "code",
   "execution_count": null,
   "metadata": {},
   "outputs": [],
   "source": [
    "df[\"End Time\"] = pd.to_datetime(df['End Time']).dt.strftime('%m-%d-%YT%H:%M')"
   ]
  },
  {
   "cell_type": "code",
   "execution_count": null,
   "metadata": {},
   "outputs": [],
   "source": [
    "df.head()"
   ]
  },
  {
   "cell_type": "code",
   "execution_count": null,
   "metadata": {},
   "outputs": [],
   "source": [
    "import json\n",
    "with open('build_address.json') as json_file:\n",
    "    build_address = json.load(json_file)"
   ]
  },
  {
   "cell_type": "code",
   "execution_count": null,
   "metadata": {},
   "outputs": [],
   "source": [
    "set(df['Building']) - set(build_address.keys())"
   ]
  },
  {
   "cell_type": "code",
   "execution_count": null,
   "metadata": {},
   "outputs": [],
   "source": [
    "dict_df = pd.DataFrame.from_dict(build_address, orient='index')"
   ]
  },
  {
   "cell_type": "code",
   "execution_count": null,
   "metadata": {},
   "outputs": [],
   "source": [
    "dict_df.head()"
   ]
  },
  {
   "cell_type": "code",
   "execution_count": null,
   "metadata": {},
   "outputs": [],
   "source": [
    "dict_df.to_csv(\"address.csv\")"
   ]
  },
  {
   "cell_type": "code",
   "execution_count": null,
   "metadata": {},
   "outputs": [],
   "source": [
    "df_clean = df[['Start Time', 'End Time', 'Building', 'Room', ]]"
   ]
  },
  {
   "cell_type": "code",
   "execution_count": null,
   "metadata": {},
   "outputs": [],
   "source": [
    "combined = pd.read_csv(\"combined_address.csv\")"
   ]
  },
  {
   "cell_type": "code",
   "execution_count": null,
   "metadata": {},
   "outputs": [],
   "source": [
    "combined.head()"
   ]
  },
  {
   "cell_type": "code",
   "execution_count": null,
   "metadata": {},
   "outputs": [],
   "source": [
    "for i in range(len(combined)):\n",
    "    print(i)\n",
    "    combined.at[i, \"lat\"] = combined.at[i, \"Combined\"].split(\", \")[0]\n",
    "    combined.at[i, \"long\"] = combined.at[i, \"Combined\"].split(\", \")[1]"
   ]
  },
  {
   "cell_type": "code",
   "execution_count": null,
   "metadata": {},
   "outputs": [],
   "source": [
    "combined.head()"
   ]
  },
  {
   "cell_type": "code",
   "execution_count": null,
   "metadata": {},
   "outputs": [],
   "source": [
    "df.head()"
   ]
  },
  {
   "cell_type": "code",
   "execution_count": null,
   "metadata": {},
   "outputs": [],
   "source": [
    "combined = combined.drop(['Combined'], axis=1)"
   ]
  },
  {
   "cell_type": "code",
   "execution_count": null,
   "metadata": {},
   "outputs": [],
   "source": [
    "merged = pd.merge(df, combined, on=\"Building\")"
   ]
  },
  {
   "cell_type": "code",
   "execution_count": null,
   "metadata": {},
   "outputs": [],
   "source": [
    "merged.head()"
   ]
  },
  {
   "cell_type": "code",
   "execution_count": null,
   "metadata": {},
   "outputs": [],
   "source": [
    "final = merged[['Name', 'Section', 'Start Time', 'End Time', 'Building', 'Room', 'Capacity', 'Address', 'lat', 'long']]"
   ]
  },
  {
   "cell_type": "code",
   "execution_count": null,
   "metadata": {},
   "outputs": [],
   "source": [
    "final.head()"
   ]
  },
  {
   "cell_type": "code",
   "execution_count": null,
   "metadata": {},
   "outputs": [],
   "source": [
    "final.to_csv(\"final.csv\", index=False, header=False)"
   ]
  },
  {
   "cell_type": "code",
   "execution_count": null,
   "metadata": {},
   "outputs": [],
   "source": [
    "thing = pd.read_csv(\"address.csv\")"
   ]
  },
  {
   "cell_type": "code",
   "execution_count": null,
   "metadata": {},
   "outputs": [],
   "source": [
    "thing.head()"
   ]
  },
  {
   "cell_type": "code",
   "execution_count": null,
   "metadata": {},
   "outputs": [],
   "source": [
    "for i in range(len(thing)):\n",
    "    thing.at[i, 'Lat'] = thing.at[i, 'Combined'].split(\", \")[0]\n",
    "    thing.at[i, 'Long'] = thing.at[i, 'Combined'].split(\", \")[0]"
   ]
  },
  {
   "cell_type": "code",
   "execution_count": null,
   "metadata": {},
   "outputs": [],
   "source": [
    "thing.head()"
   ]
  },
  {
   "cell_type": "code",
   "execution_count": null,
   "metadata": {},
   "outputs": [],
   "source": [
    "thing.drop(['Combined'], axis=1, inplace=True)"
   ]
  },
  {
   "cell_type": "code",
   "execution_count": null,
   "metadata": {},
   "outputs": [],
   "source": [
    "thing.head()"
   ]
  },
  {
   "cell_type": "code",
   "execution_count": null,
   "metadata": {},
   "outputs": [],
   "source": [
    "thing.to_csv(\"address.csv\", index=False)"
   ]
  }
 ],
 "metadata": {
  "kernelspec": {
   "display_name": "base",
   "language": "python",
   "name": "python3"
  },
  "language_info": {
   "codemirror_mode": {
    "name": "ipython",
    "version": 3
   },
   "file_extension": ".py",
   "mimetype": "text/x-python",
   "name": "python",
   "nbconvert_exporter": "python",
   "pygments_lexer": "ipython3",
   "version": "3.9.13"
  },
  "orig_nbformat": 4
 },
 "nbformat": 4,
 "nbformat_minor": 2
}
