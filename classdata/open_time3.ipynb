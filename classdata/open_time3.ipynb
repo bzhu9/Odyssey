{
 "cells": [
  {
   "cell_type": "code",
   "execution_count": 46,
   "metadata": {},
   "outputs": [],
   "source": [
    "import pandas as pd"
   ]
  },
  {
   "cell_type": "code",
   "execution_count": 47,
   "metadata": {},
   "outputs": [],
   "source": [
    "import time"
   ]
  },
  {
   "cell_type": "code",
   "execution_count": 71,
   "metadata": {},
   "outputs": [],
   "source": [
    "import datetime as dt"
   ]
  },
  {
   "cell_type": "code",
   "execution_count": 97,
   "metadata": {},
   "outputs": [],
   "source": [
    "import pytz\n",
    "eastern = pytz.timezone('US/Eastern')"
   ]
  },
  {
   "cell_type": "code",
   "execution_count": 48,
   "metadata": {},
   "outputs": [],
   "source": [
    "pd.set_option('display.max_columns', None)"
   ]
  },
  {
   "cell_type": "code",
   "execution_count": 105,
   "metadata": {},
   "outputs": [],
   "source": [
    "def clean_file(df):\n",
    "    df.drop(df.columns[len(df.columns)-1], axis=1, inplace=True)\n",
    "    for i in range(len(df)):\n",
    "        start = df.at[i, 'Published Start']\n",
    "        if start[-1] == 'a' or start[0:2] == '12':\n",
    "            if len(start.split(':')[0]) == 1:\n",
    "                df.at[i, 'Published Start'] = '0%s' %(start[:-1])\n",
    "            else:\n",
    "                df.at[i, 'Published Start'] = start[:-1]\n",
    "        elif start == 'noon':\n",
    "            df.at[i, 'Published Start'] = '12:00'\n",
    "        else:\n",
    "            hour = int(start.split(':')[0])\n",
    "            hour += 12\n",
    "            rest = start.split(':')[1]\n",
    "            df.at[i, 'Published Start'] = '%d:%s' %(hour,rest[0:2])\n",
    "\n",
    "\n",
    "        end = df.at[i, 'Published End']\n",
    "        if end[-1] == 'a' or end[0:2] == '12':\n",
    "            if len(end.split(':')[0]) == 1:\n",
    "                df.at[i, 'Published End'] = '0%s' %(end[:-1])\n",
    "            else:\n",
    "                df.at[i, 'Published End'] = end[:-1]\n",
    "        elif end == 'noon':\n",
    "            df.at[i, 'Published End'] = '12:00'\n",
    "        else:\n",
    "            hour = int(end.split(':')[0])\n",
    "            hour += 12\n",
    "            rest = end.split(':')[1]\n",
    "            df.at[i, 'Published End'] = '%d:%s' %(hour,rest[0:2])\n",
    "\n",
    "        df.at[i, 'Building'] = df.at[i, 'Location'].split()[0]\n",
    "        df.at[i, 'Room'] = df.at[i, 'Location'].split()[1]\n",
    "\n",
    "def combine_time(df):\n",
    "    for i in range(len(df)):\n",
    "        df.at[i, \"Start Time\"] = df.at[i, \"Date\"] + \"T\" + df.at[i, \"Published Start\"]\n",
    "        df.at[i, \"End Time\"] = df.at[i, \"Date\"] + \"T\" + df.at[i, \"Published End\"]\n",
    "\n",
    "def convert_iso(df):\n",
    "    df[\"Start Time\"] = pd.to_datetime(df[\"Start Time\"])\n",
    "    df[\"End Time\"] = pd.to_datetime(df[\"End Time\"])\n",
    "\n",
    "def to_epoch(df):\n",
    "    for i in range(len(df)):\n",
    "        start = eastern.localize(df.at[i, \"Start Time\"])\n",
    "        end = eastern.localize(df.at[i, \"End Time\"])\n",
    "        df.at[i, \"Start Time\"] = start.timestamp()\n",
    "        df.at[i, \"End Time\"] = end.timestamp()\n",
    "\n",
    "def drop_useless_cols(df):\n",
    "    df = df[['Name', 'Section', 'Start Time', 'End Time', 'Building', 'Room', 'Capacity', 'Address', 'Lat', 'Long']]\n",
    "\n",
    "def insert_address(df, address):\n",
    "    for i in range(len(address)):\n",
    "        arr = address.at[i, \"Combined\"].split(', ')\n",
    "        address.at[i, \"Lat\"] = arr[0]\n",
    "        address.at[i, \"Long\"] = arr[1]\n",
    "    address = address.drop([\"Combined\"], axis=1)\n",
    "    df = pd.merge(df, address, on=\"Building\")\n",
    "    return df\n",
    "\n",
    "def insert_beg_end(df):\n",
    "    for date in set(df[\"Date\"]):\n",
    "        for classroom in set(df[\"Location\"]):\n",
    "            df.loc[len(df)] = [pd.NA, pd.NA, pd.NA, pd.NA, pd.NA, date, '06:00', '6:00', classroom, df[df.Location == classroom].iloc[0]['Capacity'], pd.NA, pd.NA, pd.NA, pd.NA, df[df.Location == classroom].iloc[0]['Building'], df[df.Location == classroom].iloc[0]['Room'], df[df.Location == classroom].iloc[0]['Address'], df[df.Location == classroom].iloc[0]['Lat'], df[df.Location == classroom].iloc[0]['Long']]\n",
    "            df.loc[len(df)] = [pd.NA, pd.NA, pd.NA, pd.NA, pd.NA, date, '22:00', '22:00', classroom, df[df.Location == classroom].iloc[0]['Capacity'], pd.NA, pd.NA, pd.NA, pd.NA, df[df.Location == classroom].iloc[0]['Building'], df[df.Location == classroom].iloc[0]['Room'], df[df.Location == classroom].iloc[0]['Address'], df[df.Location == classroom].iloc[0]['Lat'], df[df.Location == classroom].iloc[0]['Long']]"
   ]
  },
  {
   "cell_type": "code",
   "execution_count": 106,
   "metadata": {},
   "outputs": [],
   "source": [
    "df = pd.read_csv(\"meetings.csv\")"
   ]
  },
  {
   "cell_type": "code",
   "execution_count": 107,
   "metadata": {},
   "outputs": [],
   "source": [
    "address = pd.read_csv(\"combined_address.csv\")"
   ]
  },
  {
   "cell_type": "code",
   "execution_count": 108,
   "metadata": {},
   "outputs": [],
   "source": [
    "clean_file(df)"
   ]
  },
  {
   "cell_type": "code",
   "execution_count": 109,
   "metadata": {},
   "outputs": [],
   "source": [
    "df = insert_address(df, address)"
   ]
  },
  {
   "cell_type": "code",
   "execution_count": 54,
   "metadata": {},
   "outputs": [],
   "source": [
    "insert_beg_end(df)"
   ]
  },
  {
   "cell_type": "code",
   "execution_count": 55,
   "metadata": {},
   "outputs": [],
   "source": [
    "df_copy = df.copy()"
   ]
  },
  {
   "cell_type": "code",
   "execution_count": 56,
   "metadata": {},
   "outputs": [],
   "source": [
    "df = df_copy.copy()"
   ]
  },
  {
   "cell_type": "code",
   "execution_count": 110,
   "metadata": {},
   "outputs": [],
   "source": [
    "combine_time(df)"
   ]
  },
  {
   "cell_type": "code",
   "execution_count": 111,
   "metadata": {},
   "outputs": [],
   "source": [
    "convert_iso(df)"
   ]
  },
  {
   "cell_type": "code",
   "execution_count": 89,
   "metadata": {},
   "outputs": [],
   "source": [
    "drop_useless_cols(df)"
   ]
  },
  {
   "cell_type": "code",
   "execution_count": 112,
   "metadata": {},
   "outputs": [],
   "source": [
    "to_epoch(df)"
   ]
  },
  {
   "cell_type": "code",
   "execution_count": 61,
   "metadata": {},
   "outputs": [],
   "source": [
    "df = df.drop(['Name', 'Section', 'Type', 'Title', 'Note', 'Approved', 'Instructor / Organization',\n",
    "       'Email', 'Requested Services'], axis=1)"
   ]
  },
  {
   "cell_type": "code",
   "execution_count": 62,
   "metadata": {},
   "outputs": [],
   "source": [
    "sorted_df = df.sort_values(\"Published Start\")"
   ]
  },
  {
   "cell_type": "code",
   "execution_count": 63,
   "metadata": {},
   "outputs": [],
   "source": [
    "date_list = []\n",
    "for d_index, date in enumerate(sorted(list(set(df[\"Date\"])))):\n",
    "    class_list = list()\n",
    "    for c_index, classroom in enumerate(sorted(list(set(sorted_df[\"Location\"])))):\n",
    "        temp_df = sorted_df[(sorted_df[\"Location\"] == classroom) & (sorted_df[\"Date\"] == date)].reset_index(drop=True)\n",
    "        if len(temp_df) == 0:\n",
    "            continue\n",
    "        class_list.append(temp_df)\n",
    "    date_list.append(class_list)"
   ]
  },
  {
   "cell_type": "code",
   "execution_count": 64,
   "metadata": {},
   "outputs": [],
   "source": [
    "# things = list()"
   ]
  },
  {
   "cell_type": "code",
   "execution_count": 65,
   "metadata": {},
   "outputs": [],
   "source": [
    "# thing = pd.DataFrame(things, columns=['Date', 'Published Start', 'Published End', 'Location', 'Capacity',\n",
    "#        'Building', 'Room', 'Address', 'Lat', 'Long', 'Start Time',\n",
    "#        'End Time'])"
   ]
  },
  {
   "cell_type": "code",
   "execution_count": 66,
   "metadata": {},
   "outputs": [],
   "source": [
    "# day = 0\n",
    "# room = 0\n",
    "# temp_things = list()\n",
    "# temp_df = date_list[0][0].values\n",
    "# for i in range(1, len(date_list[day][room])):\n",
    "#     print(i)\n",
    "#     temp_row = temp_df[0].copy()\n",
    "#     temp_row[10] = int(temp_df[i - 1][11])\n",
    "#     temp_row[11] = int(temp_df[i][10])\n",
    "#     temp_start = time.gmtime(temp_row[10])\n",
    "#     temp_end = time.gmtime(temp_row[11])\n",
    "#     temp_row[1] = '{0:02d}:{1:02d}'.format(temp_start[3], temp_start[4])\n",
    "#     temp_row[2] = '{0:02d}:{1:02d}'.format(temp_end[3], temp_end[4])\n",
    "#     temp_things.append(temp_row)\n",
    "\n",
    "# temp_things = pd.DataFrame(temp_things, columns=['Date', 'Published Start', 'Published End', 'Location', 'Capacity',\n",
    "#        'Building', 'Room', 'Address', 'Lat', 'Long', 'Start Time',\n",
    "#        'End Time'])"
   ]
  },
  {
   "cell_type": "code",
   "execution_count": 67,
   "metadata": {},
   "outputs": [],
   "source": [
    "final = list()\n",
    "for day in range(len(date_list)):\n",
    "    day_list = list()\n",
    "    for room in range(len(date_list[day])):\n",
    "        room_list = list()\n",
    "        temp_df = date_list[day][room].values\n",
    "        for i in range(1, len(date_list[day][room])):\n",
    "            temp_row = temp_df[0].copy()\n",
    "            temp_row[10] = int(temp_df[i - 1][11])\n",
    "            temp_row[11] = int(temp_df[i][10])\n",
    "            temp_start = time.gmtime(temp_row[10])\n",
    "            temp_end = time.gmtime(temp_row[11])\n",
    "            temp_row[1] = '{0:02d}:{1:02d}'.format(temp_start[3], temp_start[4])\n",
    "            temp_row[2] = '{0:02d}:{1:02d}'.format(temp_end[3], temp_end[4])\n",
    "            room_list.append(temp_row)\n",
    "        thing = pd.DataFrame(room_list, columns=['Date', 'Published Start', 'Published End', 'Location', 'Capacity', 'Building', 'Room', 'Address', 'Lat', 'Long', 'Start Time','End Time'])\n",
    "        day_list.append(thing)\n",
    "    final.append(day_list)      "
   ]
  },
  {
   "cell_type": "code",
   "execution_count": 68,
   "metadata": {},
   "outputs": [],
   "source": [
    "final_df = pd.DataFrame()\n",
    "for i in range(len(final)):\n",
    "    temp_concat = pd.concat(final[i])\n",
    "    final_df = pd.concat([final_df, temp_concat])"
   ]
  },
  {
   "cell_type": "code",
   "execution_count": 69,
   "metadata": {},
   "outputs": [
    {
     "data": {
      "text/html": [
       "<div>\n",
       "<style scoped>\n",
       "    .dataframe tbody tr th:only-of-type {\n",
       "        vertical-align: middle;\n",
       "    }\n",
       "\n",
       "    .dataframe tbody tr th {\n",
       "        vertical-align: top;\n",
       "    }\n",
       "\n",
       "    .dataframe thead th {\n",
       "        text-align: right;\n",
       "    }\n",
       "</style>\n",
       "<table border=\"1\" class=\"dataframe\">\n",
       "  <thead>\n",
       "    <tr style=\"text-align: right;\">\n",
       "      <th></th>\n",
       "      <th>Date</th>\n",
       "      <th>Published Start</th>\n",
       "      <th>Published End</th>\n",
       "      <th>Location</th>\n",
       "      <th>Capacity</th>\n",
       "      <th>Building</th>\n",
       "      <th>Room</th>\n",
       "      <th>Address</th>\n",
       "      <th>Lat</th>\n",
       "      <th>Long</th>\n",
       "      <th>Start Time</th>\n",
       "      <th>End Time</th>\n",
       "    </tr>\n",
       "  </thead>\n",
       "  <tbody>\n",
       "    <tr>\n",
       "      <th>4</th>\n",
       "      <td>03/31/2023</td>\n",
       "      <td>12:20</td>\n",
       "      <td>12:30</td>\n",
       "      <td>WTHR 420</td>\n",
       "      <td>49</td>\n",
       "      <td>WTHR</td>\n",
       "      <td>420</td>\n",
       "      <td>560 Oval Drive</td>\n",
       "      <td>40.42666922643026</td>\n",
       "      <td>-86.91307453044112</td>\n",
       "      <td>1680265200</td>\n",
       "      <td>1680265800</td>\n",
       "    </tr>\n",
       "    <tr>\n",
       "      <th>5</th>\n",
       "      <td>03/31/2023</td>\n",
       "      <td>13:20</td>\n",
       "      <td>13:30</td>\n",
       "      <td>WTHR 420</td>\n",
       "      <td>49</td>\n",
       "      <td>WTHR</td>\n",
       "      <td>420</td>\n",
       "      <td>560 Oval Drive</td>\n",
       "      <td>40.42666922643026</td>\n",
       "      <td>-86.91307453044112</td>\n",
       "      <td>1680268800</td>\n",
       "      <td>1680269400</td>\n",
       "    </tr>\n",
       "    <tr>\n",
       "      <th>6</th>\n",
       "      <td>03/31/2023</td>\n",
       "      <td>14:20</td>\n",
       "      <td>14:30</td>\n",
       "      <td>WTHR 420</td>\n",
       "      <td>49</td>\n",
       "      <td>WTHR</td>\n",
       "      <td>420</td>\n",
       "      <td>560 Oval Drive</td>\n",
       "      <td>40.42666922643026</td>\n",
       "      <td>-86.91307453044112</td>\n",
       "      <td>1680272400</td>\n",
       "      <td>1680273000</td>\n",
       "    </tr>\n",
       "    <tr>\n",
       "      <th>7</th>\n",
       "      <td>03/31/2023</td>\n",
       "      <td>15:20</td>\n",
       "      <td>17:30</td>\n",
       "      <td>WTHR 420</td>\n",
       "      <td>49</td>\n",
       "      <td>WTHR</td>\n",
       "      <td>420</td>\n",
       "      <td>560 Oval Drive</td>\n",
       "      <td>40.42666922643026</td>\n",
       "      <td>-86.91307453044112</td>\n",
       "      <td>1680276000</td>\n",
       "      <td>1680283800</td>\n",
       "    </tr>\n",
       "    <tr>\n",
       "      <th>8</th>\n",
       "      <td>03/31/2023</td>\n",
       "      <td>20:00</td>\n",
       "      <td>22:00</td>\n",
       "      <td>WTHR 420</td>\n",
       "      <td>49</td>\n",
       "      <td>WTHR</td>\n",
       "      <td>420</td>\n",
       "      <td>560 Oval Drive</td>\n",
       "      <td>40.42666922643026</td>\n",
       "      <td>-86.91307453044112</td>\n",
       "      <td>1680292800</td>\n",
       "      <td>1680300000</td>\n",
       "    </tr>\n",
       "  </tbody>\n",
       "</table>\n",
       "</div>"
      ],
      "text/plain": [
       "         Date Published Start Published End  Location  Capacity Building Room  \\\n",
       "4  03/31/2023           12:20         12:30  WTHR 420        49     WTHR  420   \n",
       "5  03/31/2023           13:20         13:30  WTHR 420        49     WTHR  420   \n",
       "6  03/31/2023           14:20         14:30  WTHR 420        49     WTHR  420   \n",
       "7  03/31/2023           15:20         17:30  WTHR 420        49     WTHR  420   \n",
       "8  03/31/2023           20:00         22:00  WTHR 420        49     WTHR  420   \n",
       "\n",
       "          Address                Lat                Long  Start Time  \\\n",
       "4  560 Oval Drive  40.42666922643026  -86.91307453044112  1680265200   \n",
       "5  560 Oval Drive  40.42666922643026  -86.91307453044112  1680268800   \n",
       "6  560 Oval Drive  40.42666922643026  -86.91307453044112  1680272400   \n",
       "7  560 Oval Drive  40.42666922643026  -86.91307453044112  1680276000   \n",
       "8  560 Oval Drive  40.42666922643026  -86.91307453044112  1680292800   \n",
       "\n",
       "     End Time  \n",
       "4  1680265800  \n",
       "5  1680269400  \n",
       "6  1680273000  \n",
       "7  1680283800  \n",
       "8  1680300000  "
      ]
     },
     "execution_count": 69,
     "metadata": {},
     "output_type": "execute_result"
    }
   ],
   "source": [
    "final_df.tail()"
   ]
  },
  {
   "cell_type": "code",
   "execution_count": 70,
   "metadata": {},
   "outputs": [],
   "source": [
    "final_df.to_csv('sprint2.csv', index=False, header=False)"
   ]
  }
 ],
 "metadata": {
  "kernelspec": {
   "display_name": "base",
   "language": "python",
   "name": "python3"
  },
  "language_info": {
   "codemirror_mode": {
    "name": "ipython",
    "version": 3
   },
   "file_extension": ".py",
   "mimetype": "text/x-python",
   "name": "python",
   "nbconvert_exporter": "python",
   "pygments_lexer": "ipython3",
   "version": "3.9.13"
  },
  "orig_nbformat": 4
 },
 "nbformat": 4,
 "nbformat_minor": 2
}
